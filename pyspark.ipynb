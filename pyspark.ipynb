{
  "nbformat": 4,
  "nbformat_minor": 0,
  "metadata": {
    "colab": {
      "provenance": [],
      "toc_visible": true,
      "authorship_tag": "ABX9TyPEtmBOj8hfPynL8jEFfw45",
      "include_colab_link": true
    },
    "kernelspec": {
      "name": "python3",
      "display_name": "Python 3"
    },
    "language_info": {
      "name": "python"
    }
  },
  "cells": [
    {
      "cell_type": "markdown",
      "metadata": {
        "id": "view-in-github",
        "colab_type": "text"
      },
      "source": [
        "<a href=\"https://colab.research.google.com/github/bodadaniel/Spark/blob/main/pyspark.ipynb\" target=\"_parent\"><img src=\"https://colab.research.google.com/assets/colab-badge.svg\" alt=\"Open In Colab\"/></a>"
      ]
    },
    {
      "cell_type": "markdown",
      "source": [
        "# Install Pyspark"
      ],
      "metadata": {
        "id": "HrBxAVF0vLHP"
      }
    },
    {
      "cell_type": "code",
      "source": [
        "pip install pyspark"
      ],
      "metadata": {
        "colab": {
          "base_uri": "https://localhost:8080/"
        },
        "id": "P6FANgXMvHj2",
        "outputId": "24d9bd92-ee14-450d-8cbd-8740cbf5f2b0"
      },
      "execution_count": 1,
      "outputs": [
        {
          "output_type": "stream",
          "name": "stdout",
          "text": [
            "Looking in indexes: https://pypi.org/simple, https://us-python.pkg.dev/colab-wheels/public/simple/\n",
            "Collecting pyspark\n",
            "  Downloading pyspark-3.3.2.tar.gz (281.4 MB)\n",
            "\u001b[2K     \u001b[90m━━━━━━━━━━━━━━━━━━━━━━━━━━━━━━━━━━━━━━━\u001b[0m \u001b[32m281.4/281.4 MB\u001b[0m \u001b[31m3.9 MB/s\u001b[0m eta \u001b[36m0:00:00\u001b[0m\n",
            "\u001b[?25h  Preparing metadata (setup.py) ... \u001b[?25l\u001b[?25hdone\n",
            "Collecting py4j==0.10.9.5\n",
            "  Downloading py4j-0.10.9.5-py2.py3-none-any.whl (199 kB)\n",
            "\u001b[2K     \u001b[90m━━━━━━━━━━━━━━━━━━━━━━━━━━━━━━━━━━━━━━\u001b[0m \u001b[32m199.7/199.7 KB\u001b[0m \u001b[31m18.2 MB/s\u001b[0m eta \u001b[36m0:00:00\u001b[0m\n",
            "\u001b[?25hBuilding wheels for collected packages: pyspark\n",
            "  Building wheel for pyspark (setup.py) ... \u001b[?25l\u001b[?25hdone\n",
            "  Created wheel for pyspark: filename=pyspark-3.3.2-py2.py3-none-any.whl size=281824025 sha256=0a2faaf0f52fc72cb3a20145be7d261ccd58770cb7316e9da16e6b93018a3780\n",
            "  Stored in directory: /root/.cache/pip/wheels/b1/59/a0/a1a0624b5e865fd389919c1a10f53aec9b12195d6747710baf\n",
            "Successfully built pyspark\n",
            "Installing collected packages: py4j, pyspark\n",
            "Successfully installed py4j-0.10.9.5 pyspark-3.3.2\n"
          ]
        }
      ]
    },
    {
      "cell_type": "markdown",
      "source": [
        "# Load packages"
      ],
      "metadata": {
        "id": "VpAarnvuvSgR"
      }
    },
    {
      "cell_type": "code",
      "source": [
        "from datetime import datetime, date\n",
        "import pandas as pd\n",
        "from pyspark.sql import Row\n",
        "from pyspark.sql import SparkSession\n",
        "\n",
        "import os\n",
        "import numpy as np\n",
        "\n",
        "from pyspark import SparkConf, SparkContext\n",
        "from pyspark.sql import SparkSession, SQLContext\n",
        "\n",
        "from pyspark.sql.types import *\n",
        "import pyspark.sql.functions as F\n",
        "from pyspark.sql.functions import udf, col\n",
        "\n",
        "from pyspark.ml.feature import VectorAssembler, StandardScaler\n",
        "\n",
        "from pyspark.ml.regression import LinearRegression, RandomForestRegressor\n",
        "from pyspark.mllib.evaluation import RegressionMetrics\n",
        "\n",
        "from pyspark.ml.tuning import ParamGridBuilder, CrossValidator, CrossValidatorModel, TrainValidationSplit\n",
        "from pyspark.ml.evaluation import RegressionEvaluator\n",
        "\n",
        "from pyspark.ml import Pipeline"
      ],
      "metadata": {
        "id": "ymMQ5q-GsOI8"
      },
      "execution_count": 3,
      "outputs": []
    },
    {
      "cell_type": "markdown",
      "source": [
        "# Some basic operations\n"
      ],
      "metadata": {
        "id": "-qmY5xgOvh4E"
      }
    },
    {
      "cell_type": "code",
      "source": [
        "spark = SparkSession.builder.getOrCreate()"
      ],
      "metadata": {
        "id": "pLXJndPvF1kI"
      },
      "execution_count": 4,
      "outputs": []
    },
    {
      "cell_type": "code",
      "source": [
        "df = spark.createDataFrame([\n",
        "    Row(a=1, b=2., c='a b', d=date(2000, 1, 1), e=datetime(2000, 1, 1, 12, 0)),\n",
        "    Row(a=2, b=3., c='a b', d=date(2000, 2, 1), e=datetime(2000, 1, 2, 12, 0)),\n",
        "    Row(a=4, b=5., c='a b', d=date(2000, 3, 1), e=datetime(2000, 1, 3, 12, 0))\n",
        "])\n",
        "df.show()"
      ],
      "metadata": {
        "colab": {
          "base_uri": "https://localhost:8080/"
        },
        "id": "aymKPOCAsORV",
        "outputId": "da00023f-6cd8-4f68-e87d-96df2741e5d4"
      },
      "execution_count": 5,
      "outputs": [
        {
          "output_type": "stream",
          "name": "stdout",
          "text": [
            "+---+---+---+----------+-------------------+\n",
            "|  a|  b|  c|         d|                  e|\n",
            "+---+---+---+----------+-------------------+\n",
            "|  1|2.0|a b|2000-01-01|2000-01-01 12:00:00|\n",
            "|  2|3.0|a b|2000-02-01|2000-01-02 12:00:00|\n",
            "|  4|5.0|a b|2000-03-01|2000-01-03 12:00:00|\n",
            "+---+---+---+----------+-------------------+\n",
            "\n"
          ]
        }
      ]
    },
    {
      "cell_type": "code",
      "source": [
        "df.select(F.split(col('c'), ' ').getItem(1).alias('last')).show()"
      ],
      "metadata": {
        "colab": {
          "base_uri": "https://localhost:8080/"
        },
        "id": "fAflAml7hKOC",
        "outputId": "a0196750-72a4-4fa0-8a17-b0b67dff5222"
      },
      "execution_count": 6,
      "outputs": [
        {
          "output_type": "stream",
          "name": "stdout",
          "text": [
            "+----+\n",
            "|last|\n",
            "+----+\n",
            "|   b|\n",
            "|   b|\n",
            "|   b|\n",
            "+----+\n",
            "\n"
          ]
        }
      ]
    },
    {
      "cell_type": "code",
      "source": [
        "df = spark.createDataFrame([\n",
        "    Row(a=1, b=2., c=['a', 'b', 'c'], d=date(2000, 1, 1), e=datetime(2000, 1, 1, 12, 0)),\n",
        "    Row(a=2, b=3., c=['a', 'c'], d=date(2000, 2, 1), e=datetime(2000, 1, 2, 12, 0)),\n",
        "    Row(a=4, b=5., c=['a', 'b', 'c'], d=date(2000, 3, 1), e=datetime(2000, 1, 3, 12, 0))\n",
        "])\n",
        "df.show()"
      ],
      "metadata": {
        "colab": {
          "base_uri": "https://localhost:8080/"
        },
        "id": "dQU6QGY68dvs",
        "outputId": "99244c1c-e86f-42f0-fb99-c8a0ae2bbccb"
      },
      "execution_count": 7,
      "outputs": [
        {
          "output_type": "stream",
          "name": "stdout",
          "text": [
            "+---+---+---------+----------+-------------------+\n",
            "|  a|  b|        c|         d|                  e|\n",
            "+---+---+---------+----------+-------------------+\n",
            "|  1|2.0|[a, b, c]|2000-01-01|2000-01-01 12:00:00|\n",
            "|  2|3.0|   [a, c]|2000-02-01|2000-01-02 12:00:00|\n",
            "|  4|5.0|[a, b, c]|2000-03-01|2000-01-03 12:00:00|\n",
            "+---+---+---------+----------+-------------------+\n",
            "\n"
          ]
        }
      ]
    },
    {
      "cell_type": "code",
      "source": [
        "df.withColumn('size', F.size(col('c'))).show()"
      ],
      "metadata": {
        "colab": {
          "base_uri": "https://localhost:8080/"
        },
        "id": "DzEu-fteM3lv",
        "outputId": "efcf322c-7675-4477-d018-8390d952bc95"
      },
      "execution_count": 8,
      "outputs": [
        {
          "output_type": "stream",
          "name": "stdout",
          "text": [
            "+---+---+---------+----------+-------------------+----+\n",
            "|  a|  b|        c|         d|                  e|size|\n",
            "+---+---+---------+----------+-------------------+----+\n",
            "|  1|2.0|[a, b, c]|2000-01-01|2000-01-01 12:00:00|   3|\n",
            "|  2|3.0|   [a, c]|2000-02-01|2000-01-02 12:00:00|   2|\n",
            "|  4|5.0|[a, b, c]|2000-03-01|2000-01-03 12:00:00|   3|\n",
            "+---+---+---------+----------+-------------------+----+\n",
            "\n"
          ]
        }
      ]
    },
    {
      "cell_type": "code",
      "source": [
        "df.select(df.a, df.b, \n",
        "  F.when(F.size(df.c) > 2, \"Long\")\n",
        "  .otherwise(\"Short\").alias('Desc')).show()"
      ],
      "metadata": {
        "colab": {
          "base_uri": "https://localhost:8080/"
        },
        "id": "uNNnBYRuM3sF",
        "outputId": "abe10018-89df-43de-debd-706a194b6cde"
      },
      "execution_count": 9,
      "outputs": [
        {
          "output_type": "stream",
          "name": "stdout",
          "text": [
            "+---+---+-----+\n",
            "|  a|  b| Desc|\n",
            "+---+---+-----+\n",
            "|  1|2.0| Long|\n",
            "|  2|3.0|Short|\n",
            "|  4|5.0| Long|\n",
            "+---+---+-----+\n",
            "\n"
          ]
        }
      ]
    },
    {
      "cell_type": "code",
      "source": [
        "df.withColumn('random_val',\n",
        "              F.when(df.b == 2, F.rand())\n",
        "              .when(df.b < 2, 1)\n",
        "              .otherwise(0)).show()"
      ],
      "metadata": {
        "colab": {
          "base_uri": "https://localhost:8080/"
        },
        "id": "BNTv8RJq3tkX",
        "outputId": "f173988f-cc47-403d-92d0-93987b9e97ff"
      },
      "execution_count": 10,
      "outputs": [
        {
          "output_type": "stream",
          "name": "stdout",
          "text": [
            "+---+---+---------+----------+-------------------+------------------+\n",
            "|  a|  b|        c|         d|                  e|        random_val|\n",
            "+---+---+---------+----------+-------------------+------------------+\n",
            "|  1|2.0|[a, b, c]|2000-01-01|2000-01-01 12:00:00|0.5666190129827455|\n",
            "|  2|3.0|   [a, c]|2000-02-01|2000-01-02 12:00:00|               0.0|\n",
            "|  4|5.0|[a, b, c]|2000-03-01|2000-01-03 12:00:00|               0.0|\n",
            "+---+---+---------+----------+-------------------+------------------+\n",
            "\n"
          ]
        }
      ]
    },
    {
      "cell_type": "code",
      "source": [
        "df.orderBy(df.b.desc()).show()"
      ],
      "metadata": {
        "colab": {
          "base_uri": "https://localhost:8080/"
        },
        "id": "ZqShryPZ4jUg",
        "outputId": "e0de8430-f9a9-4903-b707-de4c71fc1b4b"
      },
      "execution_count": 11,
      "outputs": [
        {
          "output_type": "stream",
          "name": "stdout",
          "text": [
            "+---+---+---------+----------+-------------------+\n",
            "|  a|  b|        c|         d|                  e|\n",
            "+---+---+---------+----------+-------------------+\n",
            "|  4|5.0|[a, b, c]|2000-03-01|2000-01-03 12:00:00|\n",
            "|  2|3.0|   [a, c]|2000-02-01|2000-01-02 12:00:00|\n",
            "|  1|2.0|[a, b, c]|2000-01-01|2000-01-01 12:00:00|\n",
            "+---+---+---------+----------+-------------------+\n",
            "\n"
          ]
        }
      ]
    },
    {
      "cell_type": "code",
      "source": [
        "df.select('b').rdd.max()[0]"
      ],
      "metadata": {
        "colab": {
          "base_uri": "https://localhost:8080/"
        },
        "id": "s0G61iua40J8",
        "outputId": "cd94ea6d-2b63-4d5f-b7eb-ad1c8b383774"
      },
      "execution_count": 12,
      "outputs": [
        {
          "output_type": "execute_result",
          "data": {
            "text/plain": [
              "5.0"
            ]
          },
          "metadata": {},
          "execution_count": 12
        }
      ]
    },
    {
      "cell_type": "code",
      "source": [
        "def add_together(x, y):\n",
        "  return x + y\n",
        "\n",
        "udf_add_together = udf(add_together, FloatType())\n",
        "df.select(df.a, df.b, udf_add_together(df.a, df.b).alias('a+b') ).show()"
      ],
      "metadata": {
        "id": "n1uEIoBKNWn-",
        "colab": {
          "base_uri": "https://localhost:8080/"
        },
        "outputId": "78f9d54c-4b2f-4135-89a8-181adeb0df35"
      },
      "execution_count": 13,
      "outputs": [
        {
          "output_type": "stream",
          "name": "stdout",
          "text": [
            "+---+---+---+\n",
            "|  a|  b|a+b|\n",
            "+---+---+---+\n",
            "|  1|2.0|3.0|\n",
            "|  2|3.0|5.0|\n",
            "|  4|5.0|9.0|\n",
            "+---+---+---+\n",
            "\n"
          ]
        }
      ]
    },
    {
      "cell_type": "code",
      "source": [
        "df = spark.createDataFrame([\n",
        "    Row(b=['1', '2'], c=['a', 'b', 'c'] ),\n",
        "    Row(b=['1', '4'], c=['a', 'c']),\n",
        "    Row(b=['1', '2'], c=['a', 'b', 'c'])\n",
        "])\n",
        "df.show()"
      ],
      "metadata": {
        "colab": {
          "base_uri": "https://localhost:8080/"
        },
        "id": "Ju52AII7NdvJ",
        "outputId": "4faeaeb5-57ac-4e8a-a07a-196132a38bd9"
      },
      "execution_count": 14,
      "outputs": [
        {
          "output_type": "stream",
          "name": "stdout",
          "text": [
            "+------+---------+\n",
            "|     b|        c|\n",
            "+------+---------+\n",
            "|[1, 2]|[a, b, c]|\n",
            "|[1, 4]|   [a, c]|\n",
            "|[1, 2]|[a, b, c]|\n",
            "+------+---------+\n",
            "\n"
          ]
        }
      ]
    },
    {
      "cell_type": "code",
      "source": [
        "df.select(df.b).distinct().show()"
      ],
      "metadata": {
        "colab": {
          "base_uri": "https://localhost:8080/"
        },
        "id": "cBggwEEGDd5b",
        "outputId": "12442a0c-004e-45c8-d878-5d859a05bdf7"
      },
      "execution_count": 15,
      "outputs": [
        {
          "output_type": "stream",
          "name": "stdout",
          "text": [
            "+------+\n",
            "|     b|\n",
            "+------+\n",
            "|[1, 2]|\n",
            "|[1, 4]|\n",
            "+------+\n",
            "\n"
          ]
        }
      ]
    },
    {
      "cell_type": "code",
      "source": [
        "df.select( [col for col in df.columns  ] ).distinct().show()"
      ],
      "metadata": {
        "colab": {
          "base_uri": "https://localhost:8080/"
        },
        "id": "fUDBNutBRV0_",
        "outputId": "f4b42ff3-7ce6-4283-e4f9-949b464e7b6f"
      },
      "execution_count": 16,
      "outputs": [
        {
          "output_type": "stream",
          "name": "stdout",
          "text": [
            "+------+---------+\n",
            "|     b|        c|\n",
            "+------+---------+\n",
            "|[1, 2]|[a, b, c]|\n",
            "|[1, 4]|   [a, c]|\n",
            "+------+---------+\n",
            "\n"
          ]
        }
      ]
    },
    {
      "cell_type": "code",
      "source": [
        "df.select( df.b, df.c ).distinct().show()"
      ],
      "metadata": {
        "colab": {
          "base_uri": "https://localhost:8080/"
        },
        "id": "5x0bXzh3HrEu",
        "outputId": "fb7dc01e-7c7f-4de0-8f0a-850a386a0f57"
      },
      "execution_count": 18,
      "outputs": [
        {
          "output_type": "stream",
          "name": "stdout",
          "text": [
            "+------+---------+\n",
            "|     b|        c|\n",
            "+------+---------+\n",
            "|[1, 2]|[a, b, c]|\n",
            "|[1, 4]|   [a, c]|\n",
            "+------+---------+\n",
            "\n"
          ]
        }
      ]
    },
    {
      "cell_type": "code",
      "source": [
        "spark.stop()"
      ],
      "metadata": {
        "id": "75mPN7cgH3Jl"
      },
      "execution_count": 19,
      "outputs": []
    },
    {
      "cell_type": "markdown",
      "source": [
        "# Load data"
      ],
      "metadata": {
        "id": "F5OMe0LFvwmd"
      }
    },
    {
      "cell_type": "code",
      "source": [
        "from google.colab import drive \n",
        "drive.mount('/content/gdrive')"
      ],
      "metadata": {
        "id": "0cZCi-3ORWFO",
        "colab": {
          "base_uri": "https://localhost:8080/"
        },
        "outputId": "8b5d4fbf-9f4d-40bf-81b2-17b418801b4c"
      },
      "execution_count": 4,
      "outputs": [
        {
          "output_type": "stream",
          "name": "stdout",
          "text": [
            "Mounted at /content/gdrive\n"
          ]
        }
      ]
    },
    {
      "cell_type": "code",
      "source": [
        "schema = StructType([\n",
        "    StructField(\"long\", FloatType(), nullable=True),\n",
        "    StructField(\"lat\", FloatType(), nullable=True),\n",
        "    StructField(\"medage\", FloatType(), nullable=True),\n",
        "    StructField(\"totrooms\", FloatType(), nullable=True),\n",
        "    StructField(\"totbdrms\", FloatType(), nullable=True),\n",
        "    StructField(\"pop\", FloatType(), nullable=True),\n",
        "    StructField(\"houshlds\", FloatType(), nullable=True),\n",
        "    StructField(\"medinc\", FloatType(), nullable=True),\n",
        "    StructField(\"medhv\", FloatType(), nullable=True)]\n",
        ")"
      ],
      "metadata": {
        "id": "jebdUxzTsw10"
      },
      "execution_count": 5,
      "outputs": []
    },
    {
      "cell_type": "code",
      "source": [
        "HOUSING_DATA = '/content/gdrive/MyDrive/Colab Notebooks/Spark/housing.csv'"
      ],
      "metadata": {
        "id": "d-Fdzs31t_H5"
      },
      "execution_count": 6,
      "outputs": []
    },
    {
      "cell_type": "code",
      "source": [
        "spark = SparkSession.builder.getOrCreate()"
      ],
      "metadata": {
        "id": "gKJQQHjAJs7m"
      },
      "execution_count": 7,
      "outputs": []
    },
    {
      "cell_type": "code",
      "source": [
        "housing_df = spark.read.csv(path=HOUSING_DATA, schema=schema).cache()\n",
        "#housing_df = spark.read.csv(path=HOUSING_DATA).cache()"
      ],
      "metadata": {
        "id": "67d93iBvsaY-"
      },
      "execution_count": 12,
      "outputs": []
    },
    {
      "cell_type": "markdown",
      "source": [
        "# Examine data"
      ],
      "metadata": {
        "id": "UHALrl7xKPdh"
      }
    },
    {
      "cell_type": "code",
      "source": [
        "housing_df.columns"
      ],
      "metadata": {
        "id": "UsgEhYeTf0DB",
        "colab": {
          "base_uri": "https://localhost:8080/"
        },
        "outputId": "6f934cce-4752-4eb5-cf07-c72b356e641d"
      },
      "execution_count": 29,
      "outputs": [
        {
          "output_type": "execute_result",
          "data": {
            "text/plain": [
              "['long',\n",
              " 'lat',\n",
              " 'medage',\n",
              " 'totrooms',\n",
              " 'totbdrms',\n",
              " 'pop',\n",
              " 'houshlds',\n",
              " 'medinc',\n",
              " 'medhv']"
            ]
          },
          "metadata": {},
          "execution_count": 29
        }
      ]
    },
    {
      "cell_type": "code",
      "source": [
        "type(housing_df)"
      ],
      "metadata": {
        "colab": {
          "base_uri": "https://localhost:8080/"
        },
        "id": "4APw9uJ_inPV",
        "outputId": "8b0c448a-554a-4985-d74a-c4db9c933de7"
      },
      "execution_count": 30,
      "outputs": [
        {
          "output_type": "execute_result",
          "data": {
            "text/plain": [
              "pyspark.sql.dataframe.DataFrame"
            ]
          },
          "metadata": {},
          "execution_count": 30
        }
      ]
    },
    {
      "cell_type": "code",
      "source": [
        "housing_df.show(5)"
      ],
      "metadata": {
        "colab": {
          "base_uri": "https://localhost:8080/"
        },
        "id": "qL5onM0BcD9c",
        "outputId": "42dc695e-ac21-4264-e95e-8938feaed6b7"
      },
      "execution_count": 31,
      "outputs": [
        {
          "output_type": "stream",
          "name": "stdout",
          "text": [
            "+-------+-----+------+--------+--------+------+--------+------+--------+\n",
            "|   long|  lat|medage|totrooms|totbdrms|   pop|houshlds|medinc|   medhv|\n",
            "+-------+-----+------+--------+--------+------+--------+------+--------+\n",
            "|   null| null|  null|    null|    null|  null|    null|  null|    null|\n",
            "|-122.23|37.88|  41.0|   880.0|   129.0| 322.0|   126.0|8.3252|452600.0|\n",
            "|-122.22|37.86|  21.0|  7099.0|  1106.0|2401.0|  1138.0|8.3014|358500.0|\n",
            "|-122.24|37.85|  52.0|  1467.0|   190.0| 496.0|   177.0|7.2574|352100.0|\n",
            "|-122.25|37.85|  52.0|  1274.0|   235.0| 558.0|   219.0|5.6431|341300.0|\n",
            "+-------+-----+------+--------+--------+------+--------+------+--------+\n",
            "only showing top 5 rows\n",
            "\n"
          ]
        }
      ]
    },
    {
      "cell_type": "code",
      "source": [
        "housing_df.describe().show()"
      ],
      "metadata": {
        "colab": {
          "base_uri": "https://localhost:8080/"
        },
        "id": "CceZBXMtueDm",
        "outputId": "ba401ac0-569f-4a2e-9ecc-eac6799c59c3"
      },
      "execution_count": 32,
      "outputs": [
        {
          "output_type": "stream",
          "name": "stdout",
          "text": [
            "+-------+-------------------+-----------------+------------------+------------------+------------------+------------------+-----------------+------------------+------------------+\n",
            "|summary|               long|              lat|            medage|          totrooms|          totbdrms|               pop|         houshlds|            medinc|             medhv|\n",
            "+-------+-------------------+-----------------+------------------+------------------+------------------+------------------+-----------------+------------------+------------------+\n",
            "|  count|              20640|            20640|             20640|             20640|             20433|             20640|            20640|             20640|             20640|\n",
            "|   mean|-119.56970444871473|35.63186143109965|28.639486434108527|2635.7630813953488| 537.8705525375618|1425.4767441860465|499.5396802325581|3.8706710030346416|206855.81690891474|\n",
            "| stddev|  2.003531742932898|2.135952380602968| 12.58555761211163|2181.6152515827944|421.38507007403115|  1132.46212176534|382.3297528316098|1.8998217183639696|115395.61587441359|\n",
            "|    min|            -124.35|            32.54|               1.0|               2.0|               1.0|               3.0|              1.0|            0.4999|           14999.0|\n",
            "|    max|            -114.31|            41.95|              52.0|           39320.0|            6445.0|           35682.0|           6082.0|           15.0001|          500001.0|\n",
            "+-------+-------------------+-----------------+------------------+------------------+------------------+------------------+-----------------+------------------+------------------+\n",
            "\n"
          ]
        }
      ]
    },
    {
      "cell_type": "code",
      "source": [
        "housing_df.printSchema()"
      ],
      "metadata": {
        "colab": {
          "base_uri": "https://localhost:8080/"
        },
        "id": "B6S7XsUuukC-",
        "outputId": "3e6b11c9-62fa-4f1c-be34-a6d5fc76820a"
      },
      "execution_count": 33,
      "outputs": [
        {
          "output_type": "stream",
          "name": "stdout",
          "text": [
            "root\n",
            " |-- long: float (nullable = true)\n",
            " |-- lat: float (nullable = true)\n",
            " |-- medage: float (nullable = true)\n",
            " |-- totrooms: float (nullable = true)\n",
            " |-- totbdrms: float (nullable = true)\n",
            " |-- pop: float (nullable = true)\n",
            " |-- houshlds: float (nullable = true)\n",
            " |-- medinc: float (nullable = true)\n",
            " |-- medhv: float (nullable = true)\n",
            "\n"
          ]
        }
      ]
    },
    {
      "cell_type": "code",
      "source": [
        "housing_df.columns[0]"
      ],
      "metadata": {
        "colab": {
          "base_uri": "https://localhost:8080/",
          "height": 36
        },
        "id": "76ru3ehQcMdb",
        "outputId": "3524bc84-0502-47b6-ce03-698e415a7cdf"
      },
      "execution_count": 38,
      "outputs": [
        {
          "output_type": "execute_result",
          "data": {
            "text/plain": [
              "'long'"
            ],
            "application/vnd.google.colaboratory.intrinsic+json": {
              "type": "string"
            }
          },
          "metadata": {},
          "execution_count": 38
        }
      ]
    },
    {
      "cell_type": "code",
      "source": [
        "housing_df.describe().select(\n",
        "                    \"summary\",\n",
        "                    F.round(\"medage\", 4).alias(\"medage\"),\n",
        "                    F.round(\"totrooms\", 4).alias(\"totrooms\"),\n",
        "                    F.round(\"totbdrms\", 4).alias(\"totbdrms\"),\n",
        "                    F.round(\"pop\", 4).alias(\"pop\"),\n",
        "                    F.round(\"houshlds\", 4).alias(\"houshlds\"),\n",
        "                    F.round(\"medinc\", 4).alias(\"medinc\"),\n",
        "                    F.round(\"medhv\", 4).alias(\"medhv\")).show()"
      ],
      "metadata": {
        "colab": {
          "base_uri": "https://localhost:8080/"
        },
        "id": "jhG4Rgv7clNI",
        "outputId": "698910df-7f19-4ff2-902c-6667deaf7413"
      },
      "execution_count": 39,
      "outputs": [
        {
          "output_type": "stream",
          "name": "stdout",
          "text": [
            "+-------+-------+---------+--------+---------+--------+-------+-----------+\n",
            "|summary| medage| totrooms|totbdrms|      pop|houshlds| medinc|      medhv|\n",
            "+-------+-------+---------+--------+---------+--------+-------+-----------+\n",
            "|  count|20640.0|  20640.0| 20433.0|  20640.0| 20640.0|20640.0|    20640.0|\n",
            "|   mean|28.6395|2635.7631|537.8706|1425.4767|499.5397| 3.8707|206855.8169|\n",
            "| stddev|12.5856|2181.6153|421.3851|1132.4621|382.3298| 1.8998|115395.6159|\n",
            "|    min|    1.0|      2.0|     1.0|      3.0|     1.0| 0.4999|    14999.0|\n",
            "|    max|   52.0|  39320.0|  6445.0|  35682.0|  6082.0|15.0001|   500001.0|\n",
            "+-------+-------+---------+--------+---------+--------+-------+-----------+\n",
            "\n"
          ]
        }
      ]
    },
    {
      "cell_type": "code",
      "source": [
        "housing_df.groupBy(\"medage\").count().sort(\"count\", ascending=False).show()"
      ],
      "metadata": {
        "colab": {
          "base_uri": "https://localhost:8080/"
        },
        "id": "6-BFe37fclRo",
        "outputId": "e8d2a4cf-fcfc-45af-ce4d-e9bd9a26cc6c"
      },
      "execution_count": 41,
      "outputs": [
        {
          "output_type": "stream",
          "name": "stdout",
          "text": [
            "+------+-----+\n",
            "|medage|count|\n",
            "+------+-----+\n",
            "|  52.0| 1273|\n",
            "|  36.0|  862|\n",
            "|  35.0|  824|\n",
            "|  16.0|  771|\n",
            "|  17.0|  698|\n",
            "|  34.0|  689|\n",
            "|  26.0|  619|\n",
            "|  33.0|  615|\n",
            "|  18.0|  570|\n",
            "|  25.0|  566|\n",
            "|  32.0|  565|\n",
            "|  37.0|  537|\n",
            "|  15.0|  512|\n",
            "|  19.0|  502|\n",
            "|  27.0|  488|\n",
            "|  24.0|  478|\n",
            "|  30.0|  476|\n",
            "|  28.0|  471|\n",
            "|  20.0|  465|\n",
            "|  29.0|  461|\n",
            "+------+-----+\n",
            "only showing top 20 rows\n",
            "\n"
          ]
        }
      ]
    },
    {
      "cell_type": "code",
      "source": [
        "housing_df.where(col('medage') > 50).describe().show()"
      ],
      "metadata": {
        "colab": {
          "base_uri": "https://localhost:8080/"
        },
        "id": "JtXDGyddNaty",
        "outputId": "f53fb902-d156-4112-a20b-0cd50cd9de7e"
      },
      "execution_count": 53,
      "outputs": [
        {
          "output_type": "stream",
          "name": "stdout",
          "text": [
            "+-------+-------------------+------------------+-------------------+-----------------+------------------+-----------------+------------------+-----------------+-----------------+\n",
            "|summary|               long|               lat|             medage|         totrooms|          totbdrms|              pop|          houshlds|           medinc|            medhv|\n",
            "+-------+-------------------+------------------+-------------------+-----------------+------------------+-----------------+------------------+-----------------+-----------------+\n",
            "|  count|               1321|              1321|               1321|             1321|              1312|             1321|              1321|             1321|             1321|\n",
            "|   mean|-120.87149896845503| 36.59622257356838| 51.963663890991675|1858.430734292203| 403.4169207317073|934.5268735806208| 378.3436790310371|3.872136638053523|273687.5647236942|\n",
            "| stddev| 1.9709576459240237|1.9193302506626395|0.18719594896468292|957.0860779154284|242.61603881783026| 524.644918374083|221.44310776599158|2.293771731145202|139266.3340229703|\n",
            "|    min|            -124.35|             32.66|               51.0|              8.0|               1.0|              8.0|               1.0|           0.4999|          14999.0|\n",
            "|    max|            -116.88|             41.32|               52.0|           6186.0|            2747.0|           6675.0|            2538.0|          15.0001|         500001.0|\n",
            "+-------+-------------------+------------------+-------------------+-----------------+------------------+-----------------+------------------+-----------------+-----------------+\n",
            "\n"
          ]
        }
      ]
    },
    {
      "cell_type": "code",
      "source": [
        "housing_df.filter(col('medage') > 50).describe().select('summary',*[F.round(col , 4).alias(col) for col in housing_df.columns] ).show()"
      ],
      "metadata": {
        "colab": {
          "base_uri": "https://localhost:8080/"
        },
        "id": "BN3ucljoclVR",
        "outputId": "26d8435b-df03-4853-8a4b-85034b803d54"
      },
      "execution_count": 52,
      "outputs": [
        {
          "output_type": "stream",
          "name": "stdout",
          "text": [
            "+-------+---------+-------+-------+---------+--------+--------+--------+-------+-----------+\n",
            "|summary|     long|    lat| medage| totrooms|totbdrms|     pop|houshlds| medinc|      medhv|\n",
            "+-------+---------+-------+-------+---------+--------+--------+--------+-------+-----------+\n",
            "|  count|   1321.0| 1321.0| 1321.0|   1321.0|  1312.0|  1321.0|  1321.0| 1321.0|     1321.0|\n",
            "|   mean|-120.8715|36.5962|51.9637|1858.4307|403.4169|934.5269|378.3437| 3.8721|273687.5647|\n",
            "| stddev|    1.971| 1.9193| 0.1872| 957.0861| 242.616|524.6449|221.4431| 2.2938| 139266.334|\n",
            "|    min|  -124.35|  32.66|   51.0|      8.0|     1.0|     8.0|     1.0| 0.4999|    14999.0|\n",
            "|    max|  -116.88|  41.32|   52.0|   6186.0|  2747.0|  6675.0|  2538.0|15.0001|   500001.0|\n",
            "+-------+---------+-------+-------+---------+--------+--------+--------+-------+-----------+\n",
            "\n"
          ]
        }
      ]
    },
    {
      "cell_type": "code",
      "source": [
        "housing_df.withColumn('totrooms_int', col('totrooms').cast(IntegerType())).show(5)"
      ],
      "metadata": {
        "colab": {
          "base_uri": "https://localhost:8080/"
        },
        "id": "xxjhWhcjfE5p",
        "outputId": "1bcc0125-48b2-4bba-9297-fa2c2d960800"
      },
      "execution_count": 54,
      "outputs": [
        {
          "output_type": "stream",
          "name": "stdout",
          "text": [
            "+-------+-----+------+--------+--------+------+--------+------+--------+------------+\n",
            "|   long|  lat|medage|totrooms|totbdrms|   pop|houshlds|medinc|   medhv|totrooms_int|\n",
            "+-------+-----+------+--------+--------+------+--------+------+--------+------------+\n",
            "|   null| null|  null|    null|    null|  null|    null|  null|    null|        null|\n",
            "|-122.23|37.88|  41.0|   880.0|   129.0| 322.0|   126.0|8.3252|452600.0|         880|\n",
            "|-122.22|37.86|  21.0|  7099.0|  1106.0|2401.0|  1138.0|8.3014|358500.0|        7099|\n",
            "|-122.24|37.85|  52.0|  1467.0|   190.0| 496.0|   177.0|7.2574|352100.0|        1467|\n",
            "|-122.25|37.85|  52.0|  1274.0|   235.0| 558.0|   219.0|5.6431|341300.0|        1274|\n",
            "+-------+-----+------+--------+--------+------+--------+------+--------+------------+\n",
            "only showing top 5 rows\n",
            "\n"
          ]
        }
      ]
    },
    {
      "cell_type": "code",
      "source": [
        "housing_df.select( [F.count(F.when(F.isnan(c) | col(c).isNull(), c)).alias(c) for c in housing_df.columns] ).show()"
      ],
      "metadata": {
        "colab": {
          "base_uri": "https://localhost:8080/"
        },
        "id": "Tdk3hzyuPgAP",
        "outputId": "21d93239-3da7-41ed-f462-ce88ac18d490"
      },
      "execution_count": 60,
      "outputs": [
        {
          "output_type": "stream",
          "name": "stdout",
          "text": [
            "+----+---+------+--------+--------+---+--------+------+-----+\n",
            "|long|lat|medage|totrooms|totbdrms|pop|houshlds|medinc|medhv|\n",
            "+----+---+------+--------+--------+---+--------+------+-----+\n",
            "|   1|  1|     1|       1|     208|  1|       1|     1|    1|\n",
            "+----+---+------+--------+--------+---+--------+------+-----+\n",
            "\n"
          ]
        }
      ]
    },
    {
      "cell_type": "code",
      "source": [
        "housing_df.where(F.greatest(*[F.col(coll_i).isNull() for coll_i in housing_df.columns])).show()"
      ],
      "metadata": {
        "colab": {
          "base_uri": "https://localhost:8080/"
        },
        "id": "oT254Wa4fFBW",
        "outputId": "7cd5f737-9c0a-4c6c-f719-5ab6a30e963a"
      },
      "execution_count": 55,
      "outputs": [
        {
          "output_type": "stream",
          "name": "stdout",
          "text": [
            "+-------+-----+------+--------+--------+------+--------+------+--------+\n",
            "|   long|  lat|medage|totrooms|totbdrms|   pop|houshlds|medinc|   medhv|\n",
            "+-------+-----+------+--------+--------+------+--------+------+--------+\n",
            "|   null| null|  null|    null|    null|  null|    null|  null|    null|\n",
            "|-122.16|37.77|  47.0|  1256.0|    null| 570.0|   218.0| 4.375|161900.0|\n",
            "|-122.17|37.75|  38.0|   992.0|    null| 732.0|   259.0|1.6196| 85100.0|\n",
            "|-122.28|37.78|  29.0|  5154.0|    null|3741.0|  1273.0|2.5762|173400.0|\n",
            "|-122.24|37.75|  45.0|   891.0|    null| 384.0|   146.0|4.9489|247100.0|\n",
            "| -122.1|37.69|  41.0|   746.0|    null| 387.0|   161.0|3.9063|178400.0|\n",
            "|-122.14|37.67|  37.0|  3342.0|    null|1635.0|   557.0|4.7933|186900.0|\n",
            "|-121.77|39.66|  20.0|  3759.0|    null|1705.0|   600.0| 4.712|158600.0|\n",
            "|-121.95|38.03|   5.0|  5526.0|    null|3207.0|  1012.0|4.0767|143100.0|\n",
            "|-121.98|37.96|  22.0|  2987.0|    null|1420.0|   540.0|  3.65|204100.0|\n",
            "|-122.01|37.94|  23.0|  3741.0|    null|1339.0|   499.0|6.7061|322300.0|\n",
            "|-122.08|37.88|  26.0|  2947.0|    null| 825.0|   626.0| 2.933| 85000.0|\n",
            "|-119.75|36.71|  38.0|  1481.0|    null|1543.0|   372.0|1.4577| 49800.0|\n",
            "|-119.72|36.76|  23.0|  6403.0|    null|3573.0|  1260.0|2.3006| 69000.0|\n",
            "|-119.78|36.82|  25.0|  5016.0|    null|2133.0|   928.0| 3.625| 89500.0|\n",
            "|-119.73|36.83|   8.0|  3602.0|    null|1959.0|   580.0|5.3478|138800.0|\n",
            "|-119.69|36.83|  32.0|  1098.0|    null| 726.0|   224.0|1.4913| 54600.0|\n",
            "|-119.68|36.79|  16.0|  1551.0|    null|1010.0|   292.0|3.5417| 71300.0|\n",
            "|-119.45|36.61|  24.0|  1302.0|    null| 693.0|   243.0|3.7917| 90500.0|\n",
            "|-119.44|36.58|  37.0|  1054.0|    null| 879.0|   257.0|2.5234| 63500.0|\n",
            "+-------+-----+------+--------+--------+------+--------+------+--------+\n",
            "only showing top 20 rows\n",
            "\n"
          ]
        }
      ]
    },
    {
      "cell_type": "code",
      "source": [
        "housing_df.filter( F.isnan(col('totrooms')) | col('totrooms').isNull()  == True).show()"
      ],
      "metadata": {
        "id": "sP-3MQ0J2KWY",
        "colab": {
          "base_uri": "https://localhost:8080/"
        },
        "outputId": "bb2b587d-382a-43f2-d09b-552be7d0f0ff"
      },
      "execution_count": 67,
      "outputs": [
        {
          "output_type": "stream",
          "name": "stdout",
          "text": [
            "+----+----+------+--------+--------+----+--------+------+-----+\n",
            "|long| lat|medage|totrooms|totbdrms| pop|houshlds|medinc|medhv|\n",
            "+----+----+------+--------+--------+----+--------+------+-----+\n",
            "|null|null|  null|    null|    null|null|    null|  null| null|\n",
            "+----+----+------+--------+--------+----+--------+------+-----+\n",
            "\n"
          ]
        }
      ]
    },
    {
      "cell_type": "markdown",
      "source": [
        "# Filtering and data imputation"
      ],
      "metadata": {
        "id": "f50Bh5XSmMv0"
      }
    },
    {
      "cell_type": "code",
      "source": [
        "housing_df = housing_df.filter( F.isnan(col('totrooms')) | col('totrooms').isNull() == False)"
      ],
      "metadata": {
        "id": "bChpPhOj2KZp"
      },
      "execution_count": 13,
      "outputs": []
    },
    {
      "cell_type": "code",
      "source": [
        "housing_df.filter( F.isnan(col('totbdrms')) | col('totbdrms').isNull() == True).show()"
      ],
      "metadata": {
        "colab": {
          "base_uri": "https://localhost:8080/"
        },
        "id": "IdiRkJm5rkAX",
        "outputId": "55d8c275-dcf4-4496-fa01-1acad055229a"
      },
      "execution_count": 14,
      "outputs": [
        {
          "output_type": "stream",
          "name": "stdout",
          "text": [
            "+-------+-----+------+--------+--------+------+--------+------+--------+\n",
            "|   long|  lat|medage|totrooms|totbdrms|   pop|houshlds|medinc|   medhv|\n",
            "+-------+-----+------+--------+--------+------+--------+------+--------+\n",
            "|-122.16|37.77|  47.0|  1256.0|    null| 570.0|   218.0| 4.375|161900.0|\n",
            "|-122.17|37.75|  38.0|   992.0|    null| 732.0|   259.0|1.6196| 85100.0|\n",
            "|-122.28|37.78|  29.0|  5154.0|    null|3741.0|  1273.0|2.5762|173400.0|\n",
            "|-122.24|37.75|  45.0|   891.0|    null| 384.0|   146.0|4.9489|247100.0|\n",
            "| -122.1|37.69|  41.0|   746.0|    null| 387.0|   161.0|3.9063|178400.0|\n",
            "|-122.14|37.67|  37.0|  3342.0|    null|1635.0|   557.0|4.7933|186900.0|\n",
            "|-121.77|39.66|  20.0|  3759.0|    null|1705.0|   600.0| 4.712|158600.0|\n",
            "|-121.95|38.03|   5.0|  5526.0|    null|3207.0|  1012.0|4.0767|143100.0|\n",
            "|-121.98|37.96|  22.0|  2987.0|    null|1420.0|   540.0|  3.65|204100.0|\n",
            "|-122.01|37.94|  23.0|  3741.0|    null|1339.0|   499.0|6.7061|322300.0|\n",
            "|-122.08|37.88|  26.0|  2947.0|    null| 825.0|   626.0| 2.933| 85000.0|\n",
            "|-119.75|36.71|  38.0|  1481.0|    null|1543.0|   372.0|1.4577| 49800.0|\n",
            "|-119.72|36.76|  23.0|  6403.0|    null|3573.0|  1260.0|2.3006| 69000.0|\n",
            "|-119.78|36.82|  25.0|  5016.0|    null|2133.0|   928.0| 3.625| 89500.0|\n",
            "|-119.73|36.83|   8.0|  3602.0|    null|1959.0|   580.0|5.3478|138800.0|\n",
            "|-119.69|36.83|  32.0|  1098.0|    null| 726.0|   224.0|1.4913| 54600.0|\n",
            "|-119.68|36.79|  16.0|  1551.0|    null|1010.0|   292.0|3.5417| 71300.0|\n",
            "|-119.45|36.61|  24.0|  1302.0|    null| 693.0|   243.0|3.7917| 90500.0|\n",
            "|-119.44|36.58|  37.0|  1054.0|    null| 879.0|   257.0|2.5234| 63500.0|\n",
            "|-124.06|40.86|  34.0|  4183.0|    null|1891.0|   669.0|3.2216| 98100.0|\n",
            "+-------+-----+------+--------+--------+------+--------+------+--------+\n",
            "only showing top 20 rows\n",
            "\n"
          ]
        }
      ]
    },
    {
      "cell_type": "code",
      "source": [
        "avg_totbdrms = housing_df.select(F.mean(col('totbdrms'))).rdd.max()[0]\n",
        "\n",
        "housing_df = housing_df.na.fill(avg_totbdrms,[\"totbdrms\"])"
      ],
      "metadata": {
        "id": "jDgdGqlyrkFz"
      },
      "execution_count": 15,
      "outputs": []
    },
    {
      "cell_type": "code",
      "source": [
        "housing_df.select( [F.count(F.when(F.isnan(c) | col(c).isNull(), c)).alias(c) for c in housing_df.columns] ).show()"
      ],
      "metadata": {
        "colab": {
          "base_uri": "https://localhost:8080/"
        },
        "id": "qA9QCvjnrcXN",
        "outputId": "4ad8b1f5-9358-4539-fb51-f62396d5bf77"
      },
      "execution_count": 16,
      "outputs": [
        {
          "output_type": "stream",
          "name": "stdout",
          "text": [
            "+----+---+------+--------+--------+---+--------+------+-----+\n",
            "|long|lat|medage|totrooms|totbdrms|pop|houshlds|medinc|medhv|\n",
            "+----+---+------+--------+--------+---+--------+------+-----+\n",
            "|   0|  0|     0|       0|       0|  0|       0|     0|    0|\n",
            "+----+---+------+--------+--------+---+--------+------+-----+\n",
            "\n"
          ]
        }
      ]
    },
    {
      "cell_type": "code",
      "source": [
        "housing_df.createOrReplaceTempView('housing')"
      ],
      "metadata": {
        "id": "XdFqutSGdbjC"
      },
      "execution_count": 64,
      "outputs": []
    },
    {
      "cell_type": "code",
      "source": [
        "spark.sql('SELECT * from housing').collect()[1]"
      ],
      "metadata": {
        "colab": {
          "base_uri": "https://localhost:8080/"
        },
        "id": "-PenLQaBPvY4",
        "outputId": "fdeb5fc4-a18f-4e12-aca8-a9b26102c2ba"
      },
      "execution_count": 65,
      "outputs": [
        {
          "output_type": "execute_result",
          "data": {
            "text/plain": [
              "Row(long=-122.2300033569336, lat=37.880001068115234, medage=41.0, totrooms=880.0, totbdrms=129.0, pop=322.0, houshlds=126.0, medinc=8.325200080871582, medhv=452600.0)"
            ]
          },
          "metadata": {},
          "execution_count": 65
        }
      ]
    },
    {
      "cell_type": "code",
      "source": [
        "spark.catalog.listTables('default')"
      ],
      "metadata": {
        "colab": {
          "base_uri": "https://localhost:8080/"
        },
        "id": "YHrlwgaDPvi2",
        "outputId": "ec0a6635-f1eb-4452-e61f-78031283c596"
      },
      "execution_count": 66,
      "outputs": [
        {
          "output_type": "execute_result",
          "data": {
            "text/plain": [
              "[Table(name='housing', database=None, description=None, tableType='TEMPORARY', isTemporary=True)]"
            ]
          },
          "metadata": {},
          "execution_count": 66
        }
      ]
    },
    {
      "cell_type": "markdown",
      "source": [
        "# Transformation"
      ],
      "metadata": {
        "id": "8Byxk-Sjbl82"
      }
    },
    {
      "cell_type": "code",
      "source": [
        "featureCols = [\"medage\", \"totrooms\", \"totbdrms\", \"pop\", \"houshlds\", \"medinc\"]"
      ],
      "metadata": {
        "id": "Y8fmk1Llw-TU"
      },
      "execution_count": 19,
      "outputs": []
    },
    {
      "cell_type": "code",
      "source": [
        "assembler = VectorAssembler(inputCols=featureCols, outputCol=\"features\") "
      ],
      "metadata": {
        "id": "LpGCqWE0bp-U"
      },
      "execution_count": 20,
      "outputs": []
    },
    {
      "cell_type": "code",
      "source": [
        "assembled_df = assembler.transform(housing_df)"
      ],
      "metadata": {
        "id": "fYHGsaccbqBp"
      },
      "execution_count": 21,
      "outputs": []
    },
    {
      "cell_type": "code",
      "source": [
        "assembled_df.show(10, truncate = False)"
      ],
      "metadata": {
        "colab": {
          "base_uri": "https://localhost:8080/"
        },
        "id": "tdp0ZsJ9w-XR",
        "outputId": "9663cf52-fa45-4ac9-b517-bddb800c7d7f"
      },
      "execution_count": 22,
      "outputs": [
        {
          "output_type": "stream",
          "name": "stdout",
          "text": [
            "+-------+-----+------+--------+--------+------+--------+------+--------+----------------------------------------------------+\n",
            "|long   |lat  |medage|totrooms|totbdrms|pop   |houshlds|medinc|medhv   |features                                            |\n",
            "+-------+-----+------+--------+--------+------+--------+------+--------+----------------------------------------------------+\n",
            "|-122.23|37.88|41.0  |880.0   |129.0   |322.0 |126.0   |8.3252|452600.0|[41.0,880.0,129.0,322.0,126.0,8.325200080871582]    |\n",
            "|-122.22|37.86|21.0  |7099.0  |1106.0  |2401.0|1138.0  |8.3014|358500.0|[21.0,7099.0,1106.0,2401.0,1138.0,8.301400184631348]|\n",
            "|-122.24|37.85|52.0  |1467.0  |190.0   |496.0 |177.0   |7.2574|352100.0|[52.0,1467.0,190.0,496.0,177.0,7.257400035858154]   |\n",
            "|-122.25|37.85|52.0  |1274.0  |235.0   |558.0 |219.0   |5.6431|341300.0|[52.0,1274.0,235.0,558.0,219.0,5.643099784851074]   |\n",
            "|-122.25|37.85|52.0  |1627.0  |280.0   |565.0 |259.0   |3.8462|342200.0|[52.0,1627.0,280.0,565.0,259.0,3.8461999893188477]  |\n",
            "|-122.25|37.85|52.0  |919.0   |213.0   |413.0 |193.0   |4.0368|269700.0|[52.0,919.0,213.0,413.0,193.0,4.036799907684326]    |\n",
            "|-122.25|37.84|52.0  |2535.0  |489.0   |1094.0|514.0   |3.6591|299200.0|[52.0,2535.0,489.0,1094.0,514.0,3.65910005569458]   |\n",
            "|-122.25|37.84|52.0  |3104.0  |687.0   |1157.0|647.0   |3.12  |241400.0|[52.0,3104.0,687.0,1157.0,647.0,3.119999885559082]  |\n",
            "|-122.26|37.84|42.0  |2555.0  |665.0   |1206.0|595.0   |2.0804|226700.0|[42.0,2555.0,665.0,1206.0,595.0,2.080399990081787]  |\n",
            "|-122.25|37.84|52.0  |3549.0  |707.0   |1551.0|714.0   |3.6912|261100.0|[52.0,3549.0,707.0,1551.0,714.0,3.691200017929077]  |\n",
            "+-------+-----+------+--------+--------+------+--------+------+--------+----------------------------------------------------+\n",
            "only showing top 10 rows\n",
            "\n"
          ]
        }
      ]
    },
    {
      "cell_type": "code",
      "source": [
        "standardScaler = StandardScaler(inputCol=\"features\", outputCol=\"features_scaled\")"
      ],
      "metadata": {
        "id": "XFWTi5eiw-aR"
      },
      "execution_count": 23,
      "outputs": []
    },
    {
      "cell_type": "code",
      "source": [
        "scaled_df = standardScaler.fit(assembled_df).transform(assembled_df)"
      ],
      "metadata": {
        "id": "oNLqJ5CAdfNF"
      },
      "execution_count": 24,
      "outputs": []
    },
    {
      "cell_type": "code",
      "source": [
        "scaled_df.show(10, truncate = False)"
      ],
      "metadata": {
        "colab": {
          "base_uri": "https://localhost:8080/"
        },
        "id": "A9HOllTedfQg",
        "outputId": "fa8dc2b5-a32f-44f4-c58d-2450c7b8287d"
      },
      "execution_count": 25,
      "outputs": [
        {
          "output_type": "stream",
          "name": "stdout",
          "text": [
            "+-------+-----+------+--------+--------+------+--------+------+--------+----------------------------------------------------+------------------------------------------------------------------------------------------------------------------+\n",
            "|long   |lat  |medage|totrooms|totbdrms|pop   |houshlds|medinc|medhv   |features                                            |features_scaled                                                                                                   |\n",
            "+-------+-----+------+--------+--------+------+--------+------+--------+----------------------------------------------------+------------------------------------------------------------------------------------------------------------------+\n",
            "|-122.23|37.88|41.0  |880.0   |129.0   |322.0 |126.0   |8.3252|452600.0|[41.0,880.0,129.0,322.0,126.0,8.325200080871582]    |[3.2577023016083064,0.40337085073160667,0.3076801308792145,0.2843362208866199,0.3295584480852433,4.38209543579743]|\n",
            "|-122.22|37.86|21.0  |7099.0  |1106.0  |2401.0|1138.0  |8.3014|358500.0|[21.0,7099.0,1106.0,2401.0,1138.0,8.301400184631348]|[1.668579227653035,3.2540109878905406,2.6379397267628777,2.1201592122632746,2.9764882057222772,4.36956799913841]  |\n",
            "|-122.24|37.85|52.0  |1467.0  |190.0   |496.0 |177.0   |7.2574|352100.0|[52.0,1467.0,190.0,496.0,177.0,7.257400035858154]   |[4.131719992283705,0.6724375432082579,0.4531722857910911,0.4379837439744208,0.4629511532626037,3.820042673324032] |\n",
            "|-122.25|37.85|52.0  |1274.0  |235.0   |558.0 |219.0   |5.6431|341300.0|[52.0,1274.0,235.0,558.0,219.0,5.643099784851074]   |[4.131719992283705,0.5839709816273487,0.5605025640047705,0.4927317119712234,0.5728039692910182,2.970331231769803] |\n",
            "|-122.25|37.85|52.0  |1627.0  |280.0   |565.0 |259.0   |3.8462|342200.0|[52.0,1627.0,280.0,565.0,259.0,3.8461999893188477]  |[4.131719992283705,0.7457776978867319,0.66783284221845,0.4989129341644108,0.6774256988418891,2.024505748166202]   |\n",
            "|-122.25|37.85|52.0  |919.0   |213.0   |413.0 |193.0   |4.0368|269700.0|[52.0,919.0,213.0,413.0,193.0,4.036799907684326]    |[4.131719992283705,0.4212475134344847,0.5080299835447495,0.364692109398056,0.5047998450829521,2.124830908428931]  |\n",
            "|-122.25|37.84|52.0  |2535.0  |489.0   |1094.0|514.0   |3.6591|299200.0|[52.0,2535.0,489.0,1094.0,514.0,3.65910005569458]   |[4.131719992283705,1.1619830756870715,1.1663223565886502,0.9660367256210006,1.344389224728691,1.9260228580003875] |\n",
            "|-122.25|37.84|52.0  |3104.0  |687.0   |1157.0|647.0   |3.12  |241400.0|[52.0,3104.0,687.0,1157.0,647.0,3.119999885559082]  |[4.131719992283705,1.4227990007623943,1.6385755807288398,1.021667725359687,1.6922564754853369,1.6422593001231023] |\n",
            "|-122.26|37.84|42.0  |2555.0  |665.0   |1206.0|595.0   |2.0804|226700.0|[42.0,2555.0,665.0,1206.0,595.0,2.080399990081787]  |[3.33715845530607,1.1711505950218808,1.5861030002688188,1.0649362807119989,1.5562482270692046,1.0950501144251168] |\n",
            "|-122.25|37.84|52.0  |3549.0  |707.0   |1551.0|714.0   |3.6912|261100.0|[52.0,3549.0,707.0,1551.0,714.0,3.691200017929077]  |[4.131719992283705,1.6267763059619,1.6862779266015864,1.3695822316619488,1.8674978724830456,1.9429191603871925]   |\n",
            "+-------+-----+------+--------+--------+------+--------+------+--------+----------------------------------------------------+------------------------------------------------------------------------------------------------------------------+\n",
            "only showing top 10 rows\n",
            "\n"
          ]
        }
      ]
    },
    {
      "cell_type": "markdown",
      "source": [
        "# Split"
      ],
      "metadata": {
        "id": "2-MNRxFRei92"
      }
    },
    {
      "cell_type": "code",
      "source": [
        "train_data, test_data = scaled_df.randomSplit([.8,.2], seed=123456789)"
      ],
      "metadata": {
        "id": "3kWa8L5aeBdd"
      },
      "execution_count": 26,
      "outputs": []
    },
    {
      "cell_type": "markdown",
      "source": [
        "#Linear regression"
      ],
      "metadata": {
        "id": "n6slaJX1sPBc"
      }
    },
    {
      "cell_type": "markdown",
      "source": [
        "## Train"
      ],
      "metadata": {
        "id": "83eOo9Tm9dCn"
      }
    },
    {
      "cell_type": "code",
      "source": [
        "lr = LinearRegression(featuresCol='features_scaled', labelCol=\"medhv\", predictionCol='predmedhv', maxIter=10, regParam=0.3, elasticNetParam=0.8, standardization=False)\n",
        "linearModel = lr.fit(train_data)"
      ],
      "metadata": {
        "id": "unAmelkwep1T"
      },
      "execution_count": 27,
      "outputs": []
    },
    {
      "cell_type": "code",
      "source": [
        "print(f' intercept: {linearModel.intercept}, coeff: {linearModel.coefficients}')"
      ],
      "metadata": {
        "colab": {
          "base_uri": "https://localhost:8080/"
        },
        "id": "GBUICDglep7y",
        "outputId": "a47daa4d-1317-4da4-9cbf-b811e71bb374"
      },
      "execution_count": 28,
      "outputs": [
        {
          "output_type": "stream",
          "name": "stdout",
          "text": [
            " intercept: -47749.48274656101, coeff: [25415.946341808318,-20607.597995951917,35841.50225519154,-43191.066160920374,39616.00389458362,87443.15307026169]\n"
          ]
        }
      ]
    },
    {
      "cell_type": "code",
      "source": [
        "print(type(linearModel.coefficients))\n",
        "type(linearModel.coefficients.toArray())"
      ],
      "metadata": {
        "colab": {
          "base_uri": "https://localhost:8080/"
        },
        "id": "qTOZhXNkgoX8",
        "outputId": "355570b3-1684-4ab6-eb16-51fae59b6693"
      },
      "execution_count": 29,
      "outputs": [
        {
          "output_type": "stream",
          "name": "stdout",
          "text": [
            "<class 'pyspark.ml.linalg.DenseVector'>\n"
          ]
        },
        {
          "output_type": "execute_result",
          "data": {
            "text/plain": [
              "numpy.ndarray"
            ]
          },
          "metadata": {},
          "execution_count": 29
        }
      ]
    },
    {
      "cell_type": "code",
      "source": [
        "coeff_df = pd.DataFrame({\"Feature\": [\"Intercept\"] + featureCols, \"Coefficients\": np.insert(linearModel.coefficients.toArray(), 0, linearModel.intercept)})\n",
        "coeff_df"
      ],
      "metadata": {
        "colab": {
          "base_uri": "https://localhost:8080/",
          "height": 268
        },
        "id": "FT8bNDlNeBgy",
        "outputId": "57ca22f2-b66e-49e0-8c0e-393310bdd6b8"
      },
      "execution_count": 30,
      "outputs": [
        {
          "output_type": "execute_result",
          "data": {
            "text/plain": [
              "     Feature  Coefficients\n",
              "0  Intercept -47749.482747\n",
              "1     medage  25415.946342\n",
              "2   totrooms -20607.597996\n",
              "3   totbdrms  35841.502255\n",
              "4        pop -43191.066161\n",
              "5   houshlds  39616.003895\n",
              "6     medinc  87443.153070"
            ],
            "text/html": [
              "\n",
              "  <div id=\"df-1c34732b-4dab-40cd-ace1-9854bca14776\">\n",
              "    <div class=\"colab-df-container\">\n",
              "      <div>\n",
              "<style scoped>\n",
              "    .dataframe tbody tr th:only-of-type {\n",
              "        vertical-align: middle;\n",
              "    }\n",
              "\n",
              "    .dataframe tbody tr th {\n",
              "        vertical-align: top;\n",
              "    }\n",
              "\n",
              "    .dataframe thead th {\n",
              "        text-align: right;\n",
              "    }\n",
              "</style>\n",
              "<table border=\"1\" class=\"dataframe\">\n",
              "  <thead>\n",
              "    <tr style=\"text-align: right;\">\n",
              "      <th></th>\n",
              "      <th>Feature</th>\n",
              "      <th>Coefficients</th>\n",
              "    </tr>\n",
              "  </thead>\n",
              "  <tbody>\n",
              "    <tr>\n",
              "      <th>0</th>\n",
              "      <td>Intercept</td>\n",
              "      <td>-47749.482747</td>\n",
              "    </tr>\n",
              "    <tr>\n",
              "      <th>1</th>\n",
              "      <td>medage</td>\n",
              "      <td>25415.946342</td>\n",
              "    </tr>\n",
              "    <tr>\n",
              "      <th>2</th>\n",
              "      <td>totrooms</td>\n",
              "      <td>-20607.597996</td>\n",
              "    </tr>\n",
              "    <tr>\n",
              "      <th>3</th>\n",
              "      <td>totbdrms</td>\n",
              "      <td>35841.502255</td>\n",
              "    </tr>\n",
              "    <tr>\n",
              "      <th>4</th>\n",
              "      <td>pop</td>\n",
              "      <td>-43191.066161</td>\n",
              "    </tr>\n",
              "    <tr>\n",
              "      <th>5</th>\n",
              "      <td>houshlds</td>\n",
              "      <td>39616.003895</td>\n",
              "    </tr>\n",
              "    <tr>\n",
              "      <th>6</th>\n",
              "      <td>medinc</td>\n",
              "      <td>87443.153070</td>\n",
              "    </tr>\n",
              "  </tbody>\n",
              "</table>\n",
              "</div>\n",
              "      <button class=\"colab-df-convert\" onclick=\"convertToInteractive('df-1c34732b-4dab-40cd-ace1-9854bca14776')\"\n",
              "              title=\"Convert this dataframe to an interactive table.\"\n",
              "              style=\"display:none;\">\n",
              "        \n",
              "  <svg xmlns=\"http://www.w3.org/2000/svg\" height=\"24px\"viewBox=\"0 0 24 24\"\n",
              "       width=\"24px\">\n",
              "    <path d=\"M0 0h24v24H0V0z\" fill=\"none\"/>\n",
              "    <path d=\"M18.56 5.44l.94 2.06.94-2.06 2.06-.94-2.06-.94-.94-2.06-.94 2.06-2.06.94zm-11 1L8.5 8.5l.94-2.06 2.06-.94-2.06-.94L8.5 2.5l-.94 2.06-2.06.94zm10 10l.94 2.06.94-2.06 2.06-.94-2.06-.94-.94-2.06-.94 2.06-2.06.94z\"/><path d=\"M17.41 7.96l-1.37-1.37c-.4-.4-.92-.59-1.43-.59-.52 0-1.04.2-1.43.59L10.3 9.45l-7.72 7.72c-.78.78-.78 2.05 0 2.83L4 21.41c.39.39.9.59 1.41.59.51 0 1.02-.2 1.41-.59l7.78-7.78 2.81-2.81c.8-.78.8-2.07 0-2.86zM5.41 20L4 18.59l7.72-7.72 1.47 1.35L5.41 20z\"/>\n",
              "  </svg>\n",
              "      </button>\n",
              "      \n",
              "  <style>\n",
              "    .colab-df-container {\n",
              "      display:flex;\n",
              "      flex-wrap:wrap;\n",
              "      gap: 12px;\n",
              "    }\n",
              "\n",
              "    .colab-df-convert {\n",
              "      background-color: #E8F0FE;\n",
              "      border: none;\n",
              "      border-radius: 50%;\n",
              "      cursor: pointer;\n",
              "      display: none;\n",
              "      fill: #1967D2;\n",
              "      height: 32px;\n",
              "      padding: 0 0 0 0;\n",
              "      width: 32px;\n",
              "    }\n",
              "\n",
              "    .colab-df-convert:hover {\n",
              "      background-color: #E2EBFA;\n",
              "      box-shadow: 0px 1px 2px rgba(60, 64, 67, 0.3), 0px 1px 3px 1px rgba(60, 64, 67, 0.15);\n",
              "      fill: #174EA6;\n",
              "    }\n",
              "\n",
              "    [theme=dark] .colab-df-convert {\n",
              "      background-color: #3B4455;\n",
              "      fill: #D2E3FC;\n",
              "    }\n",
              "\n",
              "    [theme=dark] .colab-df-convert:hover {\n",
              "      background-color: #434B5C;\n",
              "      box-shadow: 0px 1px 3px 1px rgba(0, 0, 0, 0.15);\n",
              "      filter: drop-shadow(0px 1px 2px rgba(0, 0, 0, 0.3));\n",
              "      fill: #FFFFFF;\n",
              "    }\n",
              "  </style>\n",
              "\n",
              "      <script>\n",
              "        const buttonEl =\n",
              "          document.querySelector('#df-1c34732b-4dab-40cd-ace1-9854bca14776 button.colab-df-convert');\n",
              "        buttonEl.style.display =\n",
              "          google.colab.kernel.accessAllowed ? 'block' : 'none';\n",
              "\n",
              "        async function convertToInteractive(key) {\n",
              "          const element = document.querySelector('#df-1c34732b-4dab-40cd-ace1-9854bca14776');\n",
              "          const dataTable =\n",
              "            await google.colab.kernel.invokeFunction('convertToInteractive',\n",
              "                                                     [key], {});\n",
              "          if (!dataTable) return;\n",
              "\n",
              "          const docLinkHtml = 'Like what you see? Visit the ' +\n",
              "            '<a target=\"_blank\" href=https://colab.research.google.com/notebooks/data_table.ipynb>data table notebook</a>'\n",
              "            + ' to learn more about interactive tables.';\n",
              "          element.innerHTML = '';\n",
              "          dataTable['output_type'] = 'display_data';\n",
              "          await google.colab.output.renderOutput(dataTable, element);\n",
              "          const docLink = document.createElement('div');\n",
              "          docLink.innerHTML = docLinkHtml;\n",
              "          element.appendChild(docLink);\n",
              "        }\n",
              "      </script>\n",
              "    </div>\n",
              "  </div>\n",
              "  "
            ]
          },
          "metadata": {},
          "execution_count": 30
        }
      ]
    },
    {
      "cell_type": "markdown",
      "source": [
        "## Test"
      ],
      "metadata": {
        "id": "CLxJbR1NheGf"
      }
    },
    {
      "cell_type": "code",
      "source": [
        "predictions = linearModel.transform(test_data)"
      ],
      "metadata": {
        "id": "FyrWQxhfgJDL"
      },
      "execution_count": 31,
      "outputs": []
    },
    {
      "cell_type": "code",
      "source": [
        "predictions.show()"
      ],
      "metadata": {
        "colab": {
          "base_uri": "https://localhost:8080/"
        },
        "id": "Nv_vNEtahgoR",
        "outputId": "9dc187e1-d85e-4f95-9500-25f0369bd866"
      },
      "execution_count": 32,
      "outputs": [
        {
          "output_type": "stream",
          "name": "stdout",
          "text": [
            "+-------+-----+------+--------+--------+------+--------+------+--------+--------------------+--------------------+------------------+\n",
            "|   long|  lat|medage|totrooms|totbdrms|   pop|houshlds|medinc|   medhv|            features|     features_scaled|         predmedhv|\n",
            "+-------+-----+------+--------+--------+------+--------+------+--------+--------------------+--------------------+------------------+\n",
            "|-124.27|40.69|  36.0|  2349.0|   528.0|1194.0|   465.0|2.5179| 79000.0|[36.0,2349.0,528....|[2.86042153311948...|166434.29919072316|\n",
            "|-124.26|40.58|  52.0|  2217.0|   394.0| 907.0|   369.0|2.3571|111400.0|[52.0,2217.0,394....|[4.13171999228370...|182134.78257328103|\n",
            "|-124.21|40.75|  32.0|  1218.0|   331.0| 620.0|   268.0|1.6528| 58100.0|[32.0,1218.0,331....|[2.54259691832843...| 113860.3897806863|\n",
            "|-124.21|41.75|  20.0|  3810.0|   787.0|1993.0|   721.0|2.0074| 66900.0|[20.0,3810.0,787....|[1.58912307395527...| 115019.4447429098|\n",
            "|-124.18|40.79|  40.0|  1398.0|   311.0| 788.0|   279.0|1.4668| 64600.0|[40.0,1398.0,311....|[3.17824614791054...|112777.40574103457|\n",
            "|-124.17|40.75|  13.0|  2171.0|   339.0| 951.0|   353.0|4.8516|116100.0|[13.0,2171.0,339....|[1.03292999807092...|210587.31791870052|\n",
            "|-124.17|40.76|  26.0|  1776.0|   361.0| 992.0|   380.0|2.8056| 82800.0|[26.0,1776.0,361....|[2.06585999614185...|149514.73848569475|\n",
            "|-124.17|40.78|  39.0|  1606.0|   330.0| 731.0|   327.0|1.6369| 68300.0|[39.0,1606.0,330....|[3.09878999421277...|125394.17446755417|\n",
            "|-124.17| 40.8|  52.0|   661.0|   316.0| 392.0|   244.0| 0.957| 60000.0|[52.0,661.0,316.0...|[4.13171999228370...|132411.88933561195|\n",
            "|-124.17|41.76|  20.0|  2673.0|   538.0|1282.0|   514.0|2.4605|105900.0|[20.0,2673.0,538....|[1.58912307395527...| 130996.4555791622|\n",
            "|-124.17| 41.8|  16.0|  2739.0|   480.0|1259.0|   436.0|3.7557|109400.0|[16.0,2739.0,480....|[1.27129845916421...| 169746.2650596196|\n",
            "|-124.16|40.78|  43.0|  2241.0|   446.0| 932.0|   395.0|2.9038| 82000.0|[43.0,2241.0,446....|[3.41661460900383...| 195081.8320327879|\n",
            "|-124.16|40.78|  46.0|  1975.0|   346.0| 791.0|   349.0|   3.8| 81800.0|[46.0,1975.0,346....|[3.65498307009712...|236964.85073348344|\n",
            "|-124.16|40.79|  46.0|  3042.0|   597.0|1206.0|   541.0|2.1135| 90600.0|[46.0,3042.0,597....|[3.65498307009712...|174785.20810149654|\n",
            "|-124.16| 40.8|  52.0|  2167.0|   480.0| 908.0|   451.0|1.6111| 74700.0|[52.0,2167.0,480....|[4.13171999228370...|164081.21390180464|\n",
            "|-124.16|41.92|  19.0|  1668.0|   324.0| 841.0|   283.0|2.1336| 75000.0|[19.0,1668.0,324....|[1.50966692025750...| 98013.70197445762|\n",
            "|-124.14|40.59|  22.0|  1665.0|   405.0| 826.0|   382.0|1.5625| 66800.0|[22.0,1665.0,405....|[1.74803538135079...| 95568.94995828575|\n",
            "|-124.14|40.67|  23.0|   580.0|   117.0| 320.0|   109.0|4.2054|130600.0|[23.0,580.0,117.0...|[1.82749153504856...|  195872.994550188|\n",
            "|-124.11|40.81|  23.0|   959.0|   212.0| 425.0|   175.0|2.5536| 96100.0|[23.0,959.0,212.0...|[1.82749153504856...|127220.83471775477|\n",
            "| -124.1|41.04|  26.0|  1633.0|   380.0| 890.0|   370.0|1.9741| 97900.0|[26.0,1633.0,380....|[2.06585999614185...|117072.29745896751|\n",
            "+-------+-----+------+--------+--------+------+--------+------+--------+--------------------+--------------------+------------------+\n",
            "only showing top 20 rows\n",
            "\n"
          ]
        }
      ]
    },
    {
      "cell_type": "code",
      "source": [
        "predandlabels = predictions.select(\"predmedhv\", \"medhv\")"
      ],
      "metadata": {
        "id": "p_iICD5Rhgq4"
      },
      "execution_count": 33,
      "outputs": []
    },
    {
      "cell_type": "code",
      "source": [
        "print(\"Train RMSE: {0}\".format(linearModel.summary.rootMeanSquaredError))\n",
        "print(\"Train MAE: {0}\".format(linearModel.summary.meanAbsoluteError))\n",
        "print(\"Train R2: {0}\".format(linearModel.summary.r2))"
      ],
      "metadata": {
        "colab": {
          "base_uri": "https://localhost:8080/"
        },
        "id": "CZOrsMIwiSF1",
        "outputId": "9f3554e3-107f-4022-8ad1-e93b73105c96"
      },
      "execution_count": 34,
      "outputs": [
        {
          "output_type": "stream",
          "name": "stdout",
          "text": [
            "Train RMSE: 76125.67017789836\n",
            "Train MAE: 56060.110530257036\n",
            "Train R2: 0.5591032979158966\n"
          ]
        }
      ]
    },
    {
      "cell_type": "code",
      "source": [
        "evaluator = RegressionEvaluator(predictionCol=\"predmedhv\", labelCol='medhv', metricName='rmse')\n",
        "print(\"Test RMSE: {0}\".format(evaluator.evaluate(predandlabels)))\n",
        "\n",
        "evaluator = RegressionEvaluator(predictionCol=\"predmedhv\", labelCol='medhv', metricName='mae')\n",
        "print(\"Test MAE: {0}\".format(evaluator.evaluate(predandlabels)))\n",
        "\n",
        "evaluator = RegressionEvaluator(predictionCol=\"predmedhv\", labelCol='medhv', metricName='r2')\n",
        "print(\"Test R2: {0}\".format(evaluator.evaluate(predandlabels)))"
      ],
      "metadata": {
        "colab": {
          "base_uri": "https://localhost:8080/"
        },
        "id": "b4SageDNiSLW",
        "outputId": "109f276b-c59b-4588-e781-c8bde9eaa046"
      },
      "execution_count": 35,
      "outputs": [
        {
          "output_type": "stream",
          "name": "stdout",
          "text": [
            "Test RMSE: 77635.4221529499\n",
            "Test MAE: 57598.66503478673\n",
            "Test R2: 0.5687809177941909\n"
          ]
        }
      ]
    },
    {
      "cell_type": "code",
      "source": [
        "metrics = RegressionMetrics(predandlabels.rdd)"
      ],
      "metadata": {
        "colab": {
          "base_uri": "https://localhost:8080/"
        },
        "id": "H3vhZbIAjbTr",
        "outputId": "cb985453-199e-45e0-c199-f15bfe3e1978"
      },
      "execution_count": 36,
      "outputs": [
        {
          "output_type": "stream",
          "name": "stderr",
          "text": [
            "/usr/local/lib/python3.8/dist-packages/pyspark/sql/context.py:157: FutureWarning: Deprecated in 3.0.0. Use SparkSession.builder.getOrCreate() instead.\n",
            "  warnings.warn(\n"
          ]
        }
      ]
    },
    {
      "cell_type": "code",
      "source": [
        "print(\"RMSE: {0}\".format(metrics.rootMeanSquaredError))\n",
        "print(\"MAE: {0}\".format(metrics.meanAbsoluteError))\n",
        "print(\"R2: {0}\".format(metrics.r2))"
      ],
      "metadata": {
        "colab": {
          "base_uri": "https://localhost:8080/"
        },
        "id": "wuQfS51tiSSM",
        "outputId": "e4a785f7-1692-4333-a836-47f100012f97"
      },
      "execution_count": 37,
      "outputs": [
        {
          "output_type": "stream",
          "name": "stdout",
          "text": [
            "RMSE: 77635.4221529499\n",
            "MAE: 57598.66503478673\n",
            "R2: 0.5687809177941909\n"
          ]
        }
      ]
    },
    {
      "cell_type": "markdown",
      "source": [
        "## Paramgrid builder"
      ],
      "metadata": {
        "id": "C7pHAO4H0Ymm"
      }
    },
    {
      "cell_type": "code",
      "source": [
        "lr = LinearRegression(featuresCol='features_scaled', labelCol=\"medhv\", predictionCol='predmedhv', standardization=False)"
      ],
      "metadata": {
        "id": "xRbo8UDTjpGk"
      },
      "execution_count": 38,
      "outputs": []
    },
    {
      "cell_type": "code",
      "source": [
        "paramGrid = ParamGridBuilder().addGrid(lr.regParam, (0.01, 0.1))\\\n",
        "                              .addGrid(lr.maxIter, (5, 10))\\\n",
        "                              .addGrid(lr.tol, (1e-4, 1e-5))\\\n",
        "                              .addGrid(lr.elasticNetParam, (0.25,0.75))\\\n",
        "                              .build()"
      ],
      "metadata": {
        "id": "NU-BkMWh0dsQ"
      },
      "execution_count": 39,
      "outputs": []
    },
    {
      "cell_type": "code",
      "source": [
        "len(paramGrid)"
      ],
      "metadata": {
        "colab": {
          "base_uri": "https://localhost:8080/"
        },
        "id": "7g45HxEI0dvk",
        "outputId": "9115732d-ea3d-4f41-9bc2-0d194ce0f5a7"
      },
      "execution_count": 40,
      "outputs": [
        {
          "output_type": "execute_result",
          "data": {
            "text/plain": [
              "16"
            ]
          },
          "metadata": {},
          "execution_count": 40
        }
      ]
    },
    {
      "cell_type": "code",
      "source": [
        "tvs = TrainValidationSplit( estimator=lr\n",
        "                           ,estimatorParamMaps=paramGrid\n",
        "                           ,evaluator=RegressionEvaluator(predictionCol=\"predmedhv\", labelCol='medhv', metricName='rmse')\n",
        "                           ,trainRatio=0.8)"
      ],
      "metadata": {
        "id": "LjX-5qKw0dy5"
      },
      "execution_count": 41,
      "outputs": []
    },
    {
      "cell_type": "code",
      "source": [
        "model = tvs.fit(train_data)\n",
        "model_predictions= model.transform(test_data)\n",
        "\n",
        "print('Train RMSE: ', RegressionEvaluator(predictionCol=\"predmedhv\", labelCol='medhv', metricName='rmse').evaluate(model.transform(train_data)))\n",
        "print('Test RMSE: ', RegressionEvaluator(predictionCol=\"predmedhv\", labelCol='medhv', metricName='rmse').evaluate(model_predictions))"
      ],
      "metadata": {
        "colab": {
          "base_uri": "https://localhost:8080/"
        },
        "id": "qdSBsYFu3KpI",
        "outputId": "1483309f-a05f-4527-d863-ebcea3ca0bb7"
      },
      "execution_count": 42,
      "outputs": [
        {
          "output_type": "stream",
          "name": "stdout",
          "text": [
            "Train RMSE:  76630.04647668403\n",
            "Test RMSE:  78258.07237425014\n"
          ]
        }
      ]
    },
    {
      "cell_type": "code",
      "source": [
        "cv = CrossValidator( estimator=lr\n",
        "                    ,estimatorParamMaps=paramGrid\n",
        "                    ,evaluator=RegressionEvaluator(predictionCol=\"predmedhv\", labelCol='medhv', metricName='rmse'))"
      ],
      "metadata": {
        "id": "vT8CrxgBjpKC"
      },
      "execution_count": 44,
      "outputs": []
    },
    {
      "cell_type": "code",
      "source": [
        "model = cv.fit(train_data)\n",
        "model_predictions= model.transform(test_data)\n",
        "\n",
        "print('Train RMSE: ', RegressionEvaluator(predictionCol=\"predmedhv\", labelCol='medhv', metricName='rmse').evaluate(model.transform(train_data)))\n",
        "print('Test RMSE: ', RegressionEvaluator(predictionCol=\"predmedhv\", labelCol='medhv', metricName='rmse').evaluate(model_predictions))"
      ],
      "metadata": {
        "colab": {
          "base_uri": "https://localhost:8080/"
        },
        "id": "uay8K1Okpz9j",
        "outputId": "68fe9e64-3dc2-4f46-ec6f-601758a34aa4"
      },
      "execution_count": 45,
      "outputs": [
        {
          "output_type": "stream",
          "name": "stdout",
          "text": [
            "Train RMSE:  77197.76388718792\n",
            "Test RMSE:  78716.86561614335\n"
          ]
        }
      ]
    },
    {
      "cell_type": "code",
      "source": [
        "model.getNumFolds()"
      ],
      "metadata": {
        "colab": {
          "base_uri": "https://localhost:8080/"
        },
        "id": "bRjCruipp0CW",
        "outputId": "d3e2d412-4c99-44a1-dab6-6917ff242bd1"
      },
      "execution_count": 46,
      "outputs": [
        {
          "output_type": "execute_result",
          "data": {
            "text/plain": [
              "3"
            ]
          },
          "metadata": {},
          "execution_count": 46
        }
      ]
    },
    {
      "cell_type": "code",
      "source": [
        "model.avgMetrics, len(model.avgMetrics)"
      ],
      "metadata": {
        "colab": {
          "base_uri": "https://localhost:8080/"
        },
        "id": "9KV0A4Hqp0Fw",
        "outputId": "ee22bbbd-5378-422e-e744-e2483e2eb740"
      },
      "execution_count": 47,
      "outputs": [
        {
          "output_type": "execute_result",
          "data": {
            "text/plain": [
              "([78344.25448076906,\n",
              "  78344.25504600893,\n",
              "  78344.25448076906,\n",
              "  78344.25504600893,\n",
              "  76721.56449966664,\n",
              "  76721.56434105495,\n",
              "  76721.56449966664,\n",
              "  76721.56434105495,\n",
              "  78344.25991835706,\n",
              "  78309.22468039529,\n",
              "  78344.25991835706,\n",
              "  78309.22468039529,\n",
              "  76968.70112839884,\n",
              "  76611.74835314082,\n",
              "  76968.70112839884,\n",
              "  76611.74835314082],\n",
              " 16)"
            ]
          },
          "metadata": {},
          "execution_count": 47
        }
      ]
    },
    {
      "cell_type": "code",
      "source": [
        "model.getEstimator()\n",
        "len(model.getEstimatorParamMaps())\n",
        "model.getEvaluator()\n",
        "model.getNumFolds()\n",
        "#model.getParam('')\n",
        "model.explainParams()"
      ],
      "metadata": {
        "id": "upvYghbJrkAD",
        "colab": {
          "base_uri": "https://localhost:8080/",
          "height": 126
        },
        "outputId": "b5f6ca1c-bd8c-407c-d7a1-748bd04cab79"
      },
      "execution_count": 48,
      "outputs": [
        {
          "output_type": "execute_result",
          "data": {
            "text/plain": [
              "\"estimator: estimator to be cross-validated (current: LinearRegression_a0eabf8fa93d)\\nestimatorParamMaps: estimator param maps (current: [{Param(parent='LinearRegression_a0eabf8fa93d', name='regParam', doc='regularization parameter (>= 0).'): 0.01, Param(parent='LinearRegression_a0eabf8fa93d', name='maxIter', doc='max number of iterations (>= 0).'): 5, Param(parent='LinearRegression_a0eabf8fa93d', name='tol', doc='the convergence tolerance for iterative algorithms (>= 0).'): 0.0001, Param(parent='LinearRegression_a0eabf8fa93d', name='elasticNetParam', doc='the ElasticNet mixing parameter, in range [0, 1]. For alpha = 0, the penalty is an L2 penalty. For alpha = 1, it is an L1 penalty.'): 0.25}, {Param(parent='LinearRegression_a0eabf8fa93d', name='regParam', doc='regularization parameter (>= 0).'): 0.01, Param(parent='LinearRegression_a0eabf8fa93d', name='maxIter', doc='max number of iterations (>= 0).'): 5, Param(parent='LinearRegression_a0eabf8fa93d', name='tol', doc='the convergence tolerance for iterative algorithms (>= 0).'): 0.0001, Param(parent='LinearRegression_a0eabf8fa93d', name='elasticNetParam', doc='the ElasticNet mixing parameter, in range [0, 1]. For alpha = 0, the penalty is an L2 penalty. For alpha = 1, it is an L1 penalty.'): 0.75}, {Param(parent='LinearRegression_a0eabf8fa93d', name='regParam', doc='regularization parameter (>= 0).'): 0.01, Param(parent='LinearRegression_a0eabf8fa93d', name='maxIter', doc='max number of iterations (>= 0).'): 5, Param(parent='LinearRegression_a0eabf8fa93d', name='tol', doc='the convergence tolerance for iterative algorithms (>= 0).'): 1e-05, Param(parent='LinearRegression_a0eabf8fa93d', name='elasticNetParam', doc='the ElasticNet mixing parameter, in range [0, 1]. For alpha = 0, the penalty is an L2 penalty. For alpha = 1, it is an L1 penalty.'): 0.25}, {Param(parent='LinearRegression_a0eabf8fa93d', name='regParam', doc='regularization parameter (>= 0).'): 0.01, Param(parent='LinearRegression_a0eabf8fa93d', name='maxIter', doc='max number of iterations (>= 0).'): 5, Param(parent='LinearRegression_a0eabf8fa93d', name='tol', doc='the convergence tolerance for iterative algorithms (>= 0).'): 1e-05, Param(parent='LinearRegression_a0eabf8fa93d', name='elasticNetParam', doc='the ElasticNet mixing parameter, in range [0, 1]. For alpha = 0, the penalty is an L2 penalty. For alpha = 1, it is an L1 penalty.'): 0.75}, {Param(parent='LinearRegression_a0eabf8fa93d', name='regParam', doc='regularization parameter (>= 0).'): 0.01, Param(parent='LinearRegression_a0eabf8fa93d', name='maxIter', doc='max number of iterations (>= 0).'): 10, Param(parent='LinearRegression_a0eabf8fa93d', name='tol', doc='the convergence tolerance for iterative algorithms (>= 0).'): 0.0001, Param(parent='LinearRegression_a0eabf8fa93d', name='elasticNetParam', doc='the ElasticNet mixing parameter, in range [0, 1]. For alpha = 0, the penalty is an L2 penalty. For alpha = 1, it is an L1 penalty.'): 0.25}, {Param(parent='LinearRegression_a0eabf8fa93d', name='regParam', doc='regularization parameter (>= 0).'): 0.01, Param(parent='LinearRegression_a0eabf8fa93d', name='maxIter', doc='max number of iterations (>= 0).'): 10, Param(parent='LinearRegression_a0eabf8fa93d', name='tol', doc='the convergence tolerance for iterative algorithms (>= 0).'): 0.0001, Param(parent='LinearRegression_a0eabf8fa93d', name='elasticNetParam', doc='the ElasticNet mixing parameter, in range [0, 1]. For alpha = 0, the penalty is an L2 penalty. For alpha = 1, it is an L1 penalty.'): 0.75}, {Param(parent='LinearRegression_a0eabf8fa93d', name='regParam', doc='regularization parameter (>= 0).'): 0.01, Param(parent='LinearRegression_a0eabf8fa93d', name='maxIter', doc='max number of iterations (>= 0).'): 10, Param(parent='LinearRegression_a0eabf8fa93d', name='tol', doc='the convergence tolerance for iterative algorithms (>= 0).'): 1e-05, Param(parent='LinearRegression_a0eabf8fa93d', name='elasticNetParam', doc='the ElasticNet mixing parameter, in range [0, 1]. For alpha = 0, the penalty is an L2 penalty. For alpha = 1, it is an L1 penalty.'): 0.25}, {Param(parent='LinearRegression_a0eabf8fa93d', name='regParam', doc='regularization parameter (>= 0).'): 0.01, Param(parent='LinearRegression_a0eabf8fa93d', name='maxIter', doc='max number of iterations (>= 0).'): 10, Param(parent='LinearRegression_a0eabf8fa93d', name='tol', doc='the convergence tolerance for iterative algorithms (>= 0).'): 1e-05, Param(parent='LinearRegression_a0eabf8fa93d', name='elasticNetParam', doc='the ElasticNet mixing parameter, in range [0, 1]. For alpha = 0, the penalty is an L2 penalty. For alpha = 1, it is an L1 penalty.'): 0.75}, {Param(parent='LinearRegression_a0eabf8fa93d', name='regParam', doc='regularization parameter (>= 0).'): 0.1, Param(parent='LinearRegression_a0eabf8fa93d', name='maxIter', doc='max number of iterations (>= 0).'): 5, Param(parent='LinearRegression_a0eabf8fa93d', name='tol', doc='the convergence tolerance for iterative algorithms (>= 0).'): 0.0001, Param(parent='LinearRegression_a0eabf8fa93d', name='elasticNetParam', doc='the ElasticNet mixing parameter, in range [0, 1]. For alpha = 0, the penalty is an L2 penalty. For alpha = 1, it is an L1 penalty.'): 0.25}, {Param(parent='LinearRegression_a0eabf8fa93d', name='regParam', doc='regularization parameter (>= 0).'): 0.1, Param(parent='LinearRegression_a0eabf8fa93d', name='maxIter', doc='max number of iterations (>= 0).'): 5, Param(parent='LinearRegression_a0eabf8fa93d', name='tol', doc='the convergence tolerance for iterative algorithms (>= 0).'): 0.0001, Param(parent='LinearRegression_a0eabf8fa93d', name='elasticNetParam', doc='the ElasticNet mixing parameter, in range [0, 1]. For alpha = 0, the penalty is an L2 penalty. For alpha = 1, it is an L1 penalty.'): 0.75}, {Param(parent='LinearRegression_a0eabf8fa93d', name='regParam', doc='regularization parameter (>= 0).'): 0.1, Param(parent='LinearRegression_a0eabf8fa93d', name='maxIter', doc='max number of iterations (>= 0).'): 5, Param(parent='LinearRegression_a0eabf8fa93d', name='tol', doc='the convergence tolerance for iterative algorithms (>= 0).'): 1e-05, Param(parent='LinearRegression_a0eabf8fa93d', name='elasticNetParam', doc='the ElasticNet mixing parameter, in range [0, 1]. For alpha = 0, the penalty is an L2 penalty. For alpha = 1, it is an L1 penalty.'): 0.25}, {Param(parent='LinearRegression_a0eabf8fa93d', name='regParam', doc='regularization parameter (>= 0).'): 0.1, Param(parent='LinearRegression_a0eabf8fa93d', name='maxIter', doc='max number of iterations (>= 0).'): 5, Param(parent='LinearRegression_a0eabf8fa93d', name='tol', doc='the convergence tolerance for iterative algorithms (>= 0).'): 1e-05, Param(parent='LinearRegression_a0eabf8fa93d', name='elasticNetParam', doc='the ElasticNet mixing parameter, in range [0, 1]. For alpha = 0, the penalty is an L2 penalty. For alpha = 1, it is an L1 penalty.'): 0.75}, {Param(parent='LinearRegression_a0eabf8fa93d', name='regParam', doc='regularization parameter (>= 0).'): 0.1, Param(parent='LinearRegression_a0eabf8fa93d', name='maxIter', doc='max number of iterations (>= 0).'): 10, Param(parent='LinearRegression_a0eabf8fa93d', name='tol', doc='the convergence tolerance for iterative algorithms (>= 0).'): 0.0001, Param(parent='LinearRegression_a0eabf8fa93d', name='elasticNetParam', doc='the ElasticNet mixing parameter, in range [0, 1]. For alpha = 0, the penalty is an L2 penalty. For alpha = 1, it is an L1 penalty.'): 0.25}, {Param(parent='LinearRegression_a0eabf8fa93d', name='regParam', doc='regularization parameter (>= 0).'): 0.1, Param(parent='LinearRegression_a0eabf8fa93d', name='maxIter', doc='max number of iterations (>= 0).'): 10, Param(parent='LinearRegression_a0eabf8fa93d', name='tol', doc='the convergence tolerance for iterative algorithms (>= 0).'): 0.0001, Param(parent='LinearRegression_a0eabf8fa93d', name='elasticNetParam', doc='the ElasticNet mixing parameter, in range [0, 1]. For alpha = 0, the penalty is an L2 penalty. For alpha = 1, it is an L1 penalty.'): 0.75}, {Param(parent='LinearRegression_a0eabf8fa93d', name='regParam', doc='regularization parameter (>= 0).'): 0.1, Param(parent='LinearRegression_a0eabf8fa93d', name='maxIter', doc='max number of iterations (>= 0).'): 10, Param(parent='LinearRegression_a0eabf8fa93d', name='tol', doc='the convergence tolerance for iterative algorithms (>= 0).'): 1e-05, Param(parent='LinearRegression_a0eabf8fa93d', name='elasticNetParam', doc='the ElasticNet mixing parameter, in range [0, 1]. For alpha = 0, the penalty is an L2 penalty. For alpha = 1, it is an L1 penalty.'): 0.25}, {Param(parent='LinearRegression_a0eabf8fa93d', name='regParam', doc='regularization parameter (>= 0).'): 0.1, Param(parent='LinearRegression_a0eabf8fa93d', name='maxIter', doc='max number of iterations (>= 0).'): 10, Param(parent='LinearRegression_a0eabf8fa93d', name='tol', doc='the convergence tolerance for iterative algorithms (>= 0).'): 1e-05, Param(parent='LinearRegression_a0eabf8fa93d', name='elasticNetParam', doc='the ElasticNet mixing parameter, in range [0, 1]. For alpha = 0, the penalty is an L2 penalty. For alpha = 1, it is an L1 penalty.'): 0.75}])\\nevaluator: evaluator used to select hyper-parameters that maximize the validator metric (current: RegressionEvaluator_4028858ddfa6)\\nfoldCol: Param for the column name of user specified fold number. Once this is specified, :py:class:`CrossValidator` won't do random k-fold split. Note that this column should be integer type with range [0, numFolds) and Spark will throw exception on out-of-range fold numbers. (default: )\\nnumFolds: number of folds for cross validation (default: 3)\\nseed: random seed. (default: 5629825368612258720)\""
            ],
            "application/vnd.google.colaboratory.intrinsic+json": {
              "type": "string"
            }
          },
          "metadata": {},
          "execution_count": 48
        }
      ]
    },
    {
      "cell_type": "code",
      "source": [
        "model.bestModel"
      ],
      "metadata": {
        "colab": {
          "base_uri": "https://localhost:8080/"
        },
        "id": "rVzcFbN6rkFO",
        "outputId": "4b8f769c-a787-46a9-8216-aa39a62934c6"
      },
      "execution_count": 49,
      "outputs": [
        {
          "output_type": "execute_result",
          "data": {
            "text/plain": [
              "LinearRegressionModel: uid=LinearRegression_a0eabf8fa93d, numFeatures=6"
            ]
          },
          "metadata": {},
          "execution_count": 49
        }
      ]
    },
    {
      "cell_type": "code",
      "source": [
        "model.getEstimatorParamMaps()[ np.argmax(model.avgMetrics) ]"
      ],
      "metadata": {
        "colab": {
          "base_uri": "https://localhost:8080/"
        },
        "id": "Nlly_YX8v2Vx",
        "outputId": "bd17dee0-ce61-4c53-c4f5-c1d37066a687"
      },
      "execution_count": 50,
      "outputs": [
        {
          "output_type": "execute_result",
          "data": {
            "text/plain": [
              "{Param(parent='LinearRegression_a0eabf8fa93d', name='regParam', doc='regularization parameter (>= 0).'): 0.1,\n",
              " Param(parent='LinearRegression_a0eabf8fa93d', name='maxIter', doc='max number of iterations (>= 0).'): 5,\n",
              " Param(parent='LinearRegression_a0eabf8fa93d', name='tol', doc='the convergence tolerance for iterative algorithms (>= 0).'): 0.0001,\n",
              " Param(parent='LinearRegression_a0eabf8fa93d', name='elasticNetParam', doc='the ElasticNet mixing parameter, in range [0, 1]. For alpha = 0, the penalty is an L2 penalty. For alpha = 1, it is an L1 penalty.'): 0.25}"
            ]
          },
          "metadata": {},
          "execution_count": 50
        }
      ]
    },
    {
      "cell_type": "code",
      "source": [],
      "metadata": {
        "id": "Ns4A0xhZ98nd"
      },
      "execution_count": null,
      "outputs": []
    },
    {
      "cell_type": "markdown",
      "source": [
        "# Random Forest"
      ],
      "metadata": {
        "id": "bapArJJQ99mf"
      }
    },
    {
      "cell_type": "markdown",
      "source": [
        "##Train"
      ],
      "metadata": {
        "id": "EbGiN1fgs3RO"
      }
    },
    {
      "cell_type": "code",
      "source": [
        "rf = RandomForestRegressor(featuresCol='features_scaled', labelCol=\"medhv\", predictionCol='predmedhv', numTrees=50)"
      ],
      "metadata": {
        "id": "GcTih7mv98rG"
      },
      "execution_count": 51,
      "outputs": []
    },
    {
      "cell_type": "code",
      "source": [
        "model = rf.fit(train_data)"
      ],
      "metadata": {
        "id": "N33feKGU98uY"
      },
      "execution_count": 52,
      "outputs": []
    },
    {
      "cell_type": "markdown",
      "source": [
        "## Test"
      ],
      "metadata": {
        "id": "i1r3MApjs5hr"
      }
    },
    {
      "cell_type": "code",
      "source": [
        "predictions = model.transform(test_data)"
      ],
      "metadata": {
        "id": "OVzf86aqv2cD"
      },
      "execution_count": 53,
      "outputs": []
    },
    {
      "cell_type": "code",
      "source": [
        "predictions.select(\"predmedhv\", \"medhv\", \"features_scaled\").show(5)"
      ],
      "metadata": {
        "colab": {
          "base_uri": "https://localhost:8080/"
        },
        "id": "mQxDbHTF_8DK",
        "outputId": "433b3eea-e95a-46e1-8c0f-175c35221022"
      },
      "execution_count": 54,
      "outputs": [
        {
          "output_type": "stream",
          "name": "stdout",
          "text": [
            "+------------------+--------+--------------------+\n",
            "|         predmedhv|   medhv|     features_scaled|\n",
            "+------------------+--------+--------------------+\n",
            "|150573.14640285523| 79000.0|[2.86042153311948...|\n",
            "| 192949.6226532538|111400.0|[4.13171999228370...|\n",
            "| 143066.1209227725| 58100.0|[2.54259691832843...|\n",
            "|161533.24859331062| 66900.0|[1.58912307395527...|\n",
            "|147887.67512998977| 64600.0|[3.17824614791054...|\n",
            "+------------------+--------+--------------------+\n",
            "only showing top 5 rows\n",
            "\n"
          ]
        }
      ]
    },
    {
      "cell_type": "code",
      "source": [
        "evaluator = RegressionEvaluator(labelCol=\"medhv\", predictionCol=\"predmedhv\", metricName=\"rmse\")\n",
        "rmse = evaluator.evaluate(predictions)\n",
        "print(\"Root Mean Squared Error (RMSE) on test data = \", rmse)"
      ],
      "metadata": {
        "colab": {
          "base_uri": "https://localhost:8080/"
        },
        "id": "A2Mb1k2b_8Fk",
        "outputId": "3c2b5c95-1c7a-4195-dbc2-602fa708c1f8"
      },
      "execution_count": 56,
      "outputs": [
        {
          "output_type": "stream",
          "name": "stdout",
          "text": [
            "Root Mean Squared Error (RMSE) on test data =  82708.94529873368\n"
          ]
        }
      ]
    },
    {
      "cell_type": "markdown",
      "source": [
        "## Paramgrid builder"
      ],
      "metadata": {
        "id": "wmfDGyces91B"
      }
    },
    {
      "cell_type": "code",
      "source": [
        "rf = RandomForestRegressor(featuresCol='features_scaled', labelCol=\"medhv\", predictionCol='predmedhv')"
      ],
      "metadata": {
        "id": "NE9gVm5YBHYj"
      },
      "execution_count": 57,
      "outputs": []
    },
    {
      "cell_type": "code",
      "source": [
        "paramGrid = ParamGridBuilder().addGrid(rf.maxDepth, (2, 3, 5))\\\n",
        "                              .addGrid(rf.numTrees, (10, 20, 50))\\\n",
        "                              .build()"
      ],
      "metadata": {
        "id": "opdAMLN8AWPw"
      },
      "execution_count": 64,
      "outputs": []
    },
    {
      "cell_type": "code",
      "source": [
        "cv = CrossValidator( estimator=rf\n",
        "                    ,estimatorParamMaps=paramGrid\n",
        "                    ,evaluator=RegressionEvaluator(predictionCol=\"predmedhv\", labelCol='medhv', metricName='rmse'))"
      ],
      "metadata": {
        "id": "bh6M3dpVAWSm"
      },
      "execution_count": 65,
      "outputs": []
    },
    {
      "cell_type": "code",
      "source": [
        "model = cv.fit(train_data)\n",
        "model_predictions= model.transform(test_data)\n",
        "\n",
        "print('Train RMSE: ', RegressionEvaluator(predictionCol=\"predmedhv\", labelCol='medhv', metricName='rmse').evaluate(model.transform(train_data)))\n",
        "print('Test RMSE: ', RegressionEvaluator(predictionCol=\"predmedhv\", labelCol='medhv', metricName='rmse').evaluate(model_predictions))"
      ],
      "metadata": {
        "colab": {
          "base_uri": "https://localhost:8080/"
        },
        "id": "nCsOvAYDC-Od",
        "outputId": "0a8dd67e-38d2-4f27-8e6e-d082e39f0d74"
      },
      "execution_count": 66,
      "outputs": [
        {
          "output_type": "stream",
          "name": "stdout",
          "text": [
            "Train RMSE:  79923.10890011917\n",
            "Test RMSE:  83281.57845203881\n"
          ]
        }
      ]
    },
    {
      "cell_type": "code",
      "source": [
        "spark.stop()"
      ],
      "metadata": {
        "id": "76R-k5wljfmU"
      },
      "execution_count": null,
      "outputs": []
    },
    {
      "cell_type": "markdown",
      "source": [
        "#RDD"
      ],
      "metadata": {
        "id": "E5rsd8KaefW_"
      }
    },
    {
      "cell_type": "code",
      "source": [
        "housing_rdd = housing_df.rdd"
      ],
      "metadata": {
        "id": "LthgBdZGdzs3"
      },
      "execution_count": null,
      "outputs": []
    },
    {
      "cell_type": "code",
      "source": [
        "type(housing_rdd) "
      ],
      "metadata": {
        "colab": {
          "base_uri": "https://localhost:8080/"
        },
        "id": "SS2Am8eddzyW",
        "outputId": "1555cd39-4f30-4547-e059-ebd0e9b886ca"
      },
      "execution_count": null,
      "outputs": [
        {
          "output_type": "execute_result",
          "data": {
            "text/plain": [
              "pyspark.rdd.RDD"
            ]
          },
          "metadata": {},
          "execution_count": 10
        }
      ]
    },
    {
      "cell_type": "code",
      "source": [
        "housing_rdd.collect()[1]"
      ],
      "metadata": {
        "colab": {
          "base_uri": "https://localhost:8080/"
        },
        "id": "wSOAB8D21fxA",
        "outputId": "cd29fa6c-22cb-4d63-9736-8383d623996a"
      },
      "execution_count": null,
      "outputs": [
        {
          "output_type": "execute_result",
          "data": {
            "text/plain": [
              "Row(long=-122.2300033569336, lat=37.880001068115234, medage=41.0, totrooms=880.0, totbdrms=129.0, pop=322.0, houshlds=126.0, medinc=8.325200080871582, medhv=452600.0)"
            ]
          },
          "metadata": {},
          "execution_count": 15
        }
      ]
    },
    {
      "cell_type": "code",
      "source": [
        "housing_rdd.take(5)"
      ],
      "metadata": {
        "colab": {
          "base_uri": "https://localhost:8080/"
        },
        "id": "mBr7TR2ckqgP",
        "outputId": "54ac9ac2-6864-4ab7-a1dd-18e0ee14b0f5"
      },
      "execution_count": null,
      "outputs": [
        {
          "output_type": "execute_result",
          "data": {
            "text/plain": [
              "[Row(long=None, lat=None, medage=None, totrooms=None, totbdrms=None, pop=None, houshlds=None, medinc=None, medhv=None),\n",
              " Row(long=-122.2300033569336, lat=37.880001068115234, medage=41.0, totrooms=880.0, totbdrms=129.0, pop=322.0, houshlds=126.0, medinc=8.325200080871582, medhv=452600.0),\n",
              " Row(long=-122.22000122070312, lat=37.86000061035156, medage=21.0, totrooms=7099.0, totbdrms=1106.0, pop=2401.0, houshlds=1138.0, medinc=8.301400184631348, medhv=358500.0),\n",
              " Row(long=-122.23999786376953, lat=37.849998474121094, medage=52.0, totrooms=1467.0, totbdrms=190.0, pop=496.0, houshlds=177.0, medinc=7.257400035858154, medhv=352100.0),\n",
              " Row(long=-122.25, lat=37.849998474121094, medage=52.0, totrooms=1274.0, totbdrms=235.0, pop=558.0, houshlds=219.0, medinc=5.643099784851074, medhv=341300.0)]"
            ]
          },
          "metadata": {},
          "execution_count": 32
        }
      ]
    },
    {
      "cell_type": "code",
      "source": [
        "from pyspark.context import SparkContext\n",
        "\n",
        "sc = SparkContext('local', 'test')"
      ],
      "metadata": {
        "id": "-T5TUdM9z22G"
      },
      "execution_count": null,
      "outputs": []
    },
    {
      "cell_type": "code",
      "source": [
        "data = sc.textFile(HOUSING_DATA)"
      ],
      "metadata": {
        "id": "NPbRm5KUdz26"
      },
      "execution_count": null,
      "outputs": []
    },
    {
      "cell_type": "code",
      "source": [
        "data.take(5)"
      ],
      "metadata": {
        "colab": {
          "base_uri": "https://localhost:8080/"
        },
        "id": "F_gVSOSc0mNc",
        "outputId": "bb9b5900-cb12-4c51-87e1-33fbee8e4bbd"
      },
      "execution_count": null,
      "outputs": [
        {
          "output_type": "execute_result",
          "data": {
            "text/plain": [
              "['longitude,latitude,housing_median_age,total_rooms,total_bedrooms,population,households,median_income,median_house_value,ocean_proximity',\n",
              " '-122.23,37.88,41.0,880.0,129.0,322.0,126.0,8.3252,452600.0,NEAR BAY',\n",
              " '-122.22,37.86,21.0,7099.0,1106.0,2401.0,1138.0,8.3014,358500.0,NEAR BAY',\n",
              " '-122.24,37.85,52.0,1467.0,190.0,496.0,177.0,7.2574,352100.0,NEAR BAY',\n",
              " '-122.25,37.85,52.0,1274.0,235.0,558.0,219.0,5.6431,341300.0,NEAR BAY']"
            ]
          },
          "metadata": {},
          "execution_count": 13
        }
      ]
    },
    {
      "cell_type": "code",
      "source": [
        "from itertools import islice\n",
        "\n",
        "data = data.mapPartitionsWithIndex(lambda idx, it: islice(it, 1, None) if idx == 0 else it)"
      ],
      "metadata": {
        "id": "yoVNElLx2WrO"
      },
      "execution_count": null,
      "outputs": []
    },
    {
      "cell_type": "code",
      "source": [
        "data.take(211)"
      ],
      "metadata": {
        "id": "sJ5bDR6A3EPd"
      },
      "execution_count": null,
      "outputs": []
    },
    {
      "cell_type": "code",
      "source": [
        "data2 = data.map(lambda l: l.strip(' \"'))\n",
        "data2.take(5)"
      ],
      "metadata": {
        "colab": {
          "base_uri": "https://localhost:8080/"
        },
        "id": "vvJ_mKVImmj_",
        "outputId": "72513527-d3d8-4b02-dfd0-5034741c22f0"
      },
      "execution_count": null,
      "outputs": [
        {
          "output_type": "execute_result",
          "data": {
            "text/plain": [
              "['-122.23,37.88,41.0,880.0,129.0,322.0,126.0,8.3252,452600.0,NEAR BAY',\n",
              " '-122.22,37.86,21.0,7099.0,1106.0,2401.0,1138.0,8.3014,358500.0,NEAR BAY',\n",
              " '-122.24,37.85,52.0,1467.0,190.0,496.0,177.0,7.2574,352100.0,NEAR BAY',\n",
              " '-122.25,37.85,52.0,1274.0,235.0,558.0,219.0,5.6431,341300.0,NEAR BAY',\n",
              " '-122.25,37.85,52.0,1627.0,280.0,565.0,259.0,3.8462,342200.0,NEAR BAY']"
            ]
          },
          "metadata": {},
          "execution_count": 67
        }
      ]
    },
    {
      "cell_type": "code",
      "source": [
        "data2 = data2.map(lambda l: l.split(','))\n",
        "data2.take(211)"
      ],
      "metadata": {
        "id": "YmR__Fc_0wAk"
      },
      "execution_count": null,
      "outputs": []
    },
    {
      "cell_type": "code",
      "source": [
        "data3 = data2.map(lambda line: [float(line[0]), float(line[1]), float(line[2]), float(line[3]), float(line[4]), float(line[5]), float(line[6]), float(line[7]), float(line[8]), str(line[9])] )\n",
        "data3.take(2)"
      ],
      "metadata": {
        "colab": {
          "base_uri": "https://localhost:8080/"
        },
        "id": "Zz-QfGGD1BGG",
        "outputId": "8cc6b59c-bdd1-446b-e3bc-b105869e4c5e"
      },
      "execution_count": null,
      "outputs": [
        {
          "output_type": "execute_result",
          "data": {
            "text/plain": [
              "[[-122.23,\n",
              "  37.88,\n",
              "  41.0,\n",
              "  880.0,\n",
              "  129.0,\n",
              "  322.0,\n",
              "  126.0,\n",
              "  8.3252,\n",
              "  452600.0,\n",
              "  'NEAR BAY'],\n",
              " [-122.22,\n",
              "  37.86,\n",
              "  21.0,\n",
              "  7099.0,\n",
              "  1106.0,\n",
              "  2401.0,\n",
              "  1138.0,\n",
              "  8.3014,\n",
              "  358500.0,\n",
              "  'NEAR BAY']]"
            ]
          },
          "metadata": {},
          "execution_count": 40
        }
      ]
    },
    {
      "cell_type": "code",
      "source": [
        "training_data, test_data = data3.randomSplit([0.8, 0.2])"
      ],
      "metadata": {
        "id": "rbWp0X1Lk4K_"
      },
      "execution_count": null,
      "outputs": []
    },
    {
      "cell_type": "code",
      "source": [
        "sample = data2.map(lambda line: [float(line[0]), float(line[1])])\n",
        "sample.take(2)"
      ],
      "metadata": {
        "colab": {
          "base_uri": "https://localhost:8080/"
        },
        "id": "Lw8YQYFlk4T0",
        "outputId": "e078f8c4-a2a0-457e-9664-5182cc9e824c"
      },
      "execution_count": null,
      "outputs": [
        {
          "output_type": "execute_result",
          "data": {
            "text/plain": [
              "[[-122.23, 37.88], [-122.22, 37.86]]"
            ]
          },
          "metadata": {},
          "execution_count": 19
        }
      ]
    },
    {
      "cell_type": "code",
      "source": [
        "sample.count()"
      ],
      "metadata": {
        "colab": {
          "base_uri": "https://localhost:8080/"
        },
        "id": "r6buTPsz9Gde",
        "outputId": "f1180195-8f29-4a86-b1fd-5be755f036c1"
      },
      "execution_count": null,
      "outputs": [
        {
          "output_type": "execute_result",
          "data": {
            "text/plain": [
              "20640"
            ]
          },
          "metadata": {},
          "execution_count": 20
        }
      ]
    },
    {
      "cell_type": "code",
      "source": [
        "sample.collect()"
      ],
      "metadata": {
        "id": "zd4GXyHj10BE"
      },
      "execution_count": null,
      "outputs": []
    },
    {
      "cell_type": "code",
      "source": [
        "sample.map(lambda e: e[0] + e[1]).take(2)"
      ],
      "metadata": {
        "colab": {
          "base_uri": "https://localhost:8080/"
        },
        "id": "Pphz7FXtquc3",
        "outputId": "a214f723-3b06-4e0e-d81a-c94c6a63c6ef"
      },
      "execution_count": null,
      "outputs": [
        {
          "output_type": "execute_result",
          "data": {
            "text/plain": [
              "[-84.35, -84.36]"
            ]
          },
          "metadata": {},
          "execution_count": 16
        }
      ]
    },
    {
      "cell_type": "code",
      "source": [
        "sample.map(lambda e: e[0] + e[1]).mean()"
      ],
      "metadata": {
        "colab": {
          "base_uri": "https://localhost:8080/"
        },
        "id": "S1SbhynwquiM",
        "outputId": "563683ca-d1f2-4679-d50b-6baad4dcba5a"
      },
      "execution_count": null,
      "outputs": [
        {
          "output_type": "execute_result",
          "data": {
            "text/plain": [
              "-83.93784302325572"
            ]
          },
          "metadata": {},
          "execution_count": 17
        }
      ]
    },
    {
      "cell_type": "code",
      "source": [
        "sample.map(lambda e: e[0] + e[1]).sum()"
      ],
      "metadata": {
        "colab": {
          "base_uri": "https://localhost:8080/"
        },
        "id": "4RBKs379kGaC",
        "outputId": "4842eb69-57f8-4334-f651-9c9bb49e3f5e"
      },
      "execution_count": null,
      "outputs": [
        {
          "output_type": "execute_result",
          "data": {
            "text/plain": [
              "-1732477.0799999735"
            ]
          },
          "metadata": {},
          "execution_count": 22
        }
      ]
    },
    {
      "cell_type": "code",
      "source": [
        "x = sample.reduce(lambda x, y: x + y)"
      ],
      "metadata": {
        "id": "P4Qoe7jd5_FG",
        "colab": {
          "base_uri": "https://localhost:8080/"
        },
        "outputId": "7174cb6b-6ce7-4b5b-c820-ad8de6f16f53"
      },
      "execution_count": null,
      "outputs": [
        {
          "output_type": "execute_result",
          "data": {
            "text/plain": [
              "list"
            ]
          },
          "metadata": {},
          "execution_count": 25
        }
      ]
    },
    {
      "cell_type": "code",
      "source": [
        "len(sample.reduce(lambda x, y: x + y))/2"
      ],
      "metadata": {
        "colab": {
          "base_uri": "https://localhost:8080/"
        },
        "id": "EV6rQDSx5_Jm",
        "outputId": "23ecda0b-50d1-4208-be28-169a124f8234"
      },
      "execution_count": null,
      "outputs": [
        {
          "output_type": "execute_result",
          "data": {
            "text/plain": [
              "20640.0"
            ]
          },
          "metadata": {},
          "execution_count": 24
        }
      ]
    },
    {
      "cell_type": "code",
      "source": [
        "type(sample.reduce(lambda x, y: x + y)[1:10])"
      ],
      "metadata": {
        "colab": {
          "base_uri": "https://localhost:8080/"
        },
        "id": "Y9ceLZDE5_NX",
        "outputId": "ce5eced9-67e0-41ac-bcc2-57a0d8e46026"
      },
      "execution_count": null,
      "outputs": [
        {
          "output_type": "execute_result",
          "data": {
            "text/plain": [
              "list"
            ]
          },
          "metadata": {},
          "execution_count": 26
        }
      ]
    },
    {
      "cell_type": "code",
      "source": [
        "x = [1,3,4,6]\n",
        "x = [[1,3],[4,6]]\n",
        "RDD = sc.parallelize(x)\n",
        "RDD.reduce(lambda x, y : x + y)"
      ],
      "metadata": {
        "colab": {
          "base_uri": "https://localhost:8080/"
        },
        "id": "1mAmpd_J_CM9",
        "outputId": "13b26dc2-3fff-4f75-d070-bc826b76d383"
      },
      "execution_count": null,
      "outputs": [
        {
          "output_type": "execute_result",
          "data": {
            "text/plain": [
              "[1, 3, 4, 6]"
            ]
          },
          "metadata": {},
          "execution_count": 27
        }
      ]
    },
    {
      "cell_type": "code",
      "source": [
        "sum(sample.reduce(lambda x, y: x + y))"
      ],
      "metadata": {
        "colab": {
          "base_uri": "https://localhost:8080/"
        },
        "id": "7i-dppOuARni",
        "outputId": "cb26a1f1-2433-4c82-97f8-2e36ee9d94fd"
      },
      "execution_count": null,
      "outputs": [
        {
          "output_type": "execute_result",
          "data": {
            "text/plain": [
              "-1732477.0799999489"
            ]
          },
          "metadata": {},
          "execution_count": 22
        }
      ]
    },
    {
      "cell_type": "code",
      "source": [
        "data3.filter(lambda line: line[2] > 40).collect()"
      ],
      "metadata": {
        "id": "0Nk6NeZMw0g7"
      },
      "execution_count": null,
      "outputs": []
    },
    {
      "cell_type": "code",
      "source": [
        "d = data2.map(lambda line: [str(line[9]), float(line[1])]).groupByKey().collect()"
      ],
      "metadata": {
        "id": "Yhju14Jiw0l0"
      },
      "execution_count": null,
      "outputs": []
    },
    {
      "cell_type": "code",
      "source": [
        "for cont, air in d:\n",
        "  print(cont, sum(air))"
      ],
      "metadata": {
        "id": "4Y3kbEkww0pX",
        "colab": {
          "base_uri": "https://localhost:8080/"
        },
        "outputId": "44a7e7d4-df80-4e20-9b7f-78dad52fd812"
      },
      "execution_count": null,
      "outputs": [
        {
          "output_type": "stream",
          "name": "stdout",
          "text": [
            "NEAR BAY 86564.41999999991\n",
            "<1H OCEAN 315745.4300000009\n",
            "INLAND 240630.20999999953\n",
            "NEAR OCEAN 92334.77000000002\n",
            "ISLAND 166.79000000000002\n"
          ]
        }
      ]
    },
    {
      "cell_type": "code",
      "source": [
        "for cont, air in d:\n",
        "  print(cont, np.mean(list(air)))"
      ],
      "metadata": {
        "colab": {
          "base_uri": "https://localhost:8080/"
        },
        "id": "S0CST0ZGqzCL",
        "outputId": "b3cbb199-ea56-4dc1-b012-6bb01b2481dc"
      },
      "execution_count": null,
      "outputs": [
        {
          "output_type": "stream",
          "name": "stdout",
          "text": [
            "NEAR BAY 37.80105676855895\n",
            "<1H OCEAN 34.56057683887916\n",
            "INLAND 36.73182872843841\n",
            "NEAR OCEAN 34.73843867569601\n",
            "ISLAND 33.358000000000004\n"
          ]
        }
      ]
    }
  ]
}